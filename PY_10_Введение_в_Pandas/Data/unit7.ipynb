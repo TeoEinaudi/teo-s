{
 "cells": [
  {
   "attachments": {},
   "cell_type": "markdown",
   "metadata": {},
   "source": [
    "# АГРЕГИРУЮЩИЕ МЕТОДЫ\n",
    "\n",
    "## Агрегирующим в Pandas называется метод, который для каждого столбца возвращает только одно значение — показатель (например, вычисление медианы, максимума, среднего и так далее).\n",
    "\n",
    "### МЕТОД\tСТАТИСТИЧЕСКИЙ ПАРАМЕТР\n",
    "### .count()\tКоличество непустых значений\n",
    "### .mean()\tСреднее значение\n",
    "### .min()\tМинимальное значение\n",
    "### .max()\tМаксимальное значение\n",
    "### .var()\tДисперсия\n",
    "### .std()\tСтандартное отклонение\n",
    "### .sum()\tСумма\n",
    "### .quantile(x)\tКвантиль уровня x\n",
    "### .nunique()\tЧисло уникальных значений\n",
    "#\n",
    "### Если один из этих методов применить ко всему DataFrame, то в результате его работы будет получен объект типа Series, в котором в качестве индексов будут выступать наименования столбцов, а в качестве значений — статистический показатель. В случае применения метода к отдельному столбцу результатом вычислений станет число.\n",
    "#\n",
    "## В каждый метод можно передать некоторые параметры, среди которых:\n",
    "\n",
    "### axis  — определяет, подсчитывать параметр по строкам или по столбцам;\n",
    "### numeric_only — определяет, вычислять параметры только по числовым столбцам/строкам или нет (True/False)."
   ]
  },
  {
   "attachments": {},
   "cell_type": "markdown",
   "metadata": {},
   "source": [
    "### Вычислим среднюю цену на объекты недвижимости:"
   ]
  },
  {
   "cell_type": "code",
   "execution_count": 3,
   "metadata": {},
   "outputs": [
    {
     "name": "stdout",
     "output_type": "stream",
     "text": [
      "1075684.079455081\n"
     ]
    }
   ],
   "source": [
    "import pandas as pd\n",
    "\n",
    "melb_data = pd.read_csv('melb_data.csv', sep=',')\n",
    "\n",
    "print(melb_data['Price'].mean())\n",
    "# 1075684.079455081"
   ]
  },
  {
   "attachments": {},
   "cell_type": "markdown",
   "metadata": {},
   "source": [
    "### Найдём максимальное количество парковочных мест:"
   ]
  },
  {
   "cell_type": "code",
   "execution_count": 4,
   "metadata": {},
   "outputs": [
    {
     "name": "stdout",
     "output_type": "stream",
     "text": [
      "10.0\n"
     ]
    }
   ],
   "source": [
    "print(melb_data['Car'].max())\n",
    "# 10"
   ]
  },
  {
   "attachments": {},
   "cell_type": "markdown",
   "metadata": {},
   "source": [
    "### А теперь представим, что риэлторская ставка для всех компаний за продажу недвижимости составляет 12%. Найдём общую прибыльность риэлторского бизнеса в Мельбурне. Результат округлим до сотых:"
   ]
  },
  {
   "cell_type": "code",
   "execution_count": 5,
   "metadata": {},
   "outputs": [
    {
     "name": "stdout",
     "output_type": "stream",
     "text": [
      "Total income of real estate agencies: 1752934775.88\n"
     ]
    }
   ],
   "source": [
    "rate = 0.12\n",
    "income = melb_data['Price'].sum() * rate\n",
    "print('Total income of real estate agencies:', round(income, 2))\n",
    "# Total income of real estate agencies: 1752934775.88"
   ]
  },
  {
   "attachments": {},
   "cell_type": "markdown",
   "metadata": {},
   "source": [
    "### Найдём, насколько медианная площадь территории отличается от её среднего значения. Вычислим модуль разницы между медианой и средним и разделим результат на среднее, чтобы получить отклонение в долях:"
   ]
  },
  {
   "cell_type": "code",
   "execution_count": 6,
   "metadata": {},
   "outputs": [
    {
     "name": "stdout",
     "output_type": "stream",
     "text": [
      "0.21205713983546193\n"
     ]
    }
   ],
   "source": [
    "landsize_median = melb_data['Landsize'].median() \n",
    "landsize_mean =  melb_data['Landsize'].mean()\n",
    "print(abs(landsize_median - landsize_mean)/landsize_mean)\n",
    "# 0.21205713983546193"
   ]
  },
  {
   "attachments": {},
   "cell_type": "markdown",
   "metadata": {},
   "source": [
    "### В результате получаем долю отклонения медианы от среднего значения. Умножив результат на 100, получим его в процентах. Отклонение медианы от среднего значения на 21% является довольно большим."
   ]
  },
  {
   "attachments": {},
   "cell_type": "markdown",
   "metadata": {},
   "source": [
    "# МОДАЛЬНОЕ ЗНАЧЕНИЕ\n",
    "\n",
    "## Отдельный интерес представляет статический показатель моды — самого распространённого значения в столбце. Он вычисляется с помощью метода mode().\n",
    "### Модальных значений может быть несколько, то есть несколько значений могут встречаться одинаковое количество раз. Поэтому метод mode(), в отличие от агрегирующих методов, возвращает не одно число, а серию.\n",
    "### Вычислим, какое число комнат чаще всего представлено на рынке недвижимости:"
   ]
  },
  {
   "cell_type": "code",
   "execution_count": 7,
   "metadata": {},
   "outputs": [
    {
     "name": "stdout",
     "output_type": "stream",
     "text": [
      "0    3\n",
      "Name: Rooms, dtype: int64\n"
     ]
    }
   ],
   "source": [
    "print(melb_data['Rooms'].mode())\n",
    "# 0    3\n",
    "# dtype: int64"
   ]
  },
  {
   "attachments": {},
   "cell_type": "markdown",
   "metadata": {},
   "source": [
    "### Примечание. Метод mode() может быть использован не только с числовыми столбцами, но и со столбцами типа object. Так, например, с помощью следующего кода можно найти наиболее распространённое название района:"
   ]
  },
  {
   "cell_type": "code",
   "execution_count": 9,
   "metadata": {},
   "outputs": [
    {
     "data": {
      "text/plain": [
       "0    Southern Metropolitan\n",
       "Name: Regionname, dtype: object"
      ]
     },
     "execution_count": 9,
     "metadata": {},
     "output_type": "execute_result"
    }
   ],
   "source": [
    "melb_data['Regionname'].mode()\n",
    "# 0    Southern Metropolitan\n",
    "# Name: Regionname, dtype: object"
   ]
  },
  {
   "cell_type": "code",
   "execution_count": 11,
   "metadata": {},
   "outputs": [
    {
     "data": {
      "text/plain": [
       "5.868724943071711"
      ]
     },
     "execution_count": 11,
     "metadata": {},
     "output_type": "execute_result"
    }
   ],
   "source": [
    "melb_data['Distance'].std()"
   ]
  },
  {
   "cell_type": "code",
   "execution_count": 12,
   "metadata": {},
   "outputs": [
    {
     "name": "stdout",
     "output_type": "stream",
     "text": [
      "9.764079662364534\n"
     ]
    }
   ],
   "source": [
    "build_median = melb_data['BuildingArea'].median()\n",
    "build_mean = melb_data['BuildingArea'].mean()\n",
    "total = abs((build_median - build_mean) / build_mean)\n",
    "print(total * 100)\n",
    "# 9.764079662364534"
   ]
  },
  {
   "cell_type": "code",
   "execution_count": 15,
   "metadata": {},
   "outputs": [
    {
     "name": "stdout",
     "output_type": "stream",
     "text": [
      "0    2\n",
      "dtype: int64\n"
     ]
    }
   ],
   "source": [
    "list1 = pd.Series(\n",
    "    data = [1, 2, 4, 2, 3, 2, 1, 5, 6]\n",
    ")\n",
    "print(list1.mode())\n",
    "# 0    2\n",
    "# dtype: int64"
   ]
  }
 ],
 "metadata": {
  "kernelspec": {
   "display_name": "Python 3",
   "language": "python",
   "name": "python3"
  },
  "language_info": {
   "codemirror_mode": {
    "name": "ipython",
    "version": 3
   },
   "file_extension": ".py",
   "mimetype": "text/x-python",
   "name": "python",
   "nbconvert_exporter": "python",
   "pygments_lexer": "ipython3",
   "version": "3.11.2"
  },
  "orig_nbformat": 4
 },
 "nbformat": 4,
 "nbformat_minor": 2
}

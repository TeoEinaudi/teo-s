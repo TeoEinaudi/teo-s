{
 "cells": [
  {
   "attachments": {},
   "cell_type": "markdown",
   "metadata": {},
   "source": [
    "# Знакомимся с JOIN\n",
    "\n",
    "### В прошлом юните для соединения таблиц мы использовали условие в разделе where, чтобы показать принцип работы оператора JOIN.\n",
    "\n",
    "## JOIN — это оператор SQL, который позволяет соединять таблицы по условию.\n",
    "\n",
    "### В качестве примера используем запрос из предыдущего юнита."
   ]
  },
  {
   "cell_type": "code",
   "execution_count": null,
   "metadata": {},
   "outputs": [],
   "source": [
    "'''\n",
    "SELECT \n",
    "    long_name,  /*столбец long_name таблицы teams*/\n",
    "    home_team_goals, /*столбец home_team_goals таблицы matches*/\n",
    "    away_team_goals /*столбец away_team_goals таблицы matches*/\n",
    "FROM\n",
    "    sql.teams, /*таблица с командами*/\n",
    "    sql.matches /*таблица с матчами*/\n",
    "WHERE home_team_api_id = api_id /*условие: home_team_api_id таблицы matches равен api_id таблицы teams*/\n",
    "'''"
   ]
  },
  {
   "attachments": {},
   "cell_type": "markdown",
   "metadata": {},
   "source": [
    "## и запишем его с использованием JOIN."
   ]
  },
  {
   "cell_type": "code",
   "execution_count": null,
   "metadata": {},
   "outputs": [],
   "source": [
    "'''\n",
    "SELECT \n",
    "    long_name, /*столбец long_name таблицы teams*/\n",
    "    home_team_goals, /*столбец home_team_goals таблицы matches*/\n",
    "    away_team_goals /*столбец away_team_goals таблицы matches*/\n",
    "FROM    \n",
    "    sql.teams /*таблица с командами*/\n",
    "JOIN sql.matches on home_team_api_id = api_id /*оператор соединения таблиц; таблица matches; условие: home_team_api_id таблицы matches равен api_id таблицы teams*/\n",
    "'''"
   ]
  },
  {
   "attachments": {},
   "cell_type": "markdown",
   "metadata": {},
   "source": [
    "## СИНТАКСИС\n",
    "\n",
    "### Оператор JOIN упрощает процесс соединения таблиц.\n",
    "\n",
    "### Его синтаксис можно представить следующим образом:\n",
    "\n",
    "### SELECT\n",
    "###         столбец1,\n",
    "### \tстолбец2,\n",
    "### \t...\n",
    "### FROM\n",
    "### \tтаблица1\n",
    "### JOIN таблица2 ON условие\n",
    "\n",
    "\n",
    "### Порядок присоединения таблиц в данном случае не важен — результат будет одинаковым.\n",
    "\n",
    "### С помощью JOIN можно соединить и более двух таблиц.\n",
    "\n",
    "### SELECT\n",
    "###         столбец1,\n",
    "### \tстолбец2,\n",
    "### \t...\n",
    "### FROM\n",
    "### \tтаблица1\n",
    "### JOIN таблица2 ON условие\n",
    "### JOIN таблица3 ON условие\n",
    "\n",
    "### В таблицах, которые мы соединяем, могут быть одинаковые названия столбцов.\n",
    "\n",
    "### → К примеру, столбец id есть и в таблице matches, и в таблице teams. Такой запрос не будет обработан."
   ]
  },
  {
   "cell_type": "code",
   "execution_count": null,
   "metadata": {},
   "outputs": [],
   "source": [
    "'''\n",
    "SELECT\n",
    "    id /*столбец id, но не указано какой таблицы*/\n",
    "FROM \n",
    "sql.teams /*таблица teams*/\n",
    "    JOIN sql.matches ON home_team_api_id = api_id /*оператор соединения таблиц; таблица matches; условие: home_team_api_id таблицы matches равен api_id таблицы teams*/\n",
    "    '''"
   ]
  },
  {
   "attachments": {},
   "cell_type": "markdown",
   "metadata": {},
   "source": [
    "### В результате должно появиться сообщение об ошибке вроде такого: \"... column id is ambiguous ...\".\n",
    "\n",
    "\n",
    "### Что же делать в таком случае?\n",
    "\n",
    "### Можно указать, откуда мы хотим запросить данные, записав название таблицы перед столбцом через точку."
   ]
  },
  {
   "cell_type": "code",
   "execution_count": null,
   "metadata": {},
   "outputs": [],
   "source": [
    "'''\n",
    "SELECT\n",
    "    teams.id /*столбец id таблицы teams*/\n",
    "FROM \n",
    "    sql.teams /*таблица teams*/\n",
    "JOIN sql.matches ON home_team_api_id = api_id /*оператор соединения таблиц; таблица matches; условие: home_team_api_id таблицы matches равен api_id таблицы teams*/\n",
    "'''"
   ]
  },
  {
   "attachments": {},
   "cell_type": "markdown",
   "metadata": {},
   "source": [
    "### Можно также выбрать и столбец из таблицы matches."
   ]
  },
  {
   "cell_type": "code",
   "execution_count": null,
   "metadata": {},
   "outputs": [],
   "source": [
    "'''\n",
    "SELECT\n",
    "    matches.id /*столбец id таблицы matches*/\n",
    "FROM \n",
    "    sql.teams /*таблица teams*/\n",
    "JOIN sql.matches ON home_team_api_id = api_id /*оператор соединения таблиц; таблица matches; условие: home_team_api_id таблицы matches равен api_id таблицы teams*/\n",
    "'''"
   ]
  },
  {
   "attachments": {},
   "cell_type": "markdown",
   "metadata": {},
   "source": [
    "### Зачастую названия таблиц слишком длинные, так что использовать их неудобно.\n",
    "\n",
    "### Упростить обращение к различным таблицам можно, присвоив им сокращённые названия — алиасы (от англ. alias).\n",
    "\n",
    "### Синтаксис для указания алиаса такой же, как и для названия столбца.\n",
    "\n",
    "### SELECT\n",
    "###         столбец1,\n",
    "### \tстолбец2,\n",
    "### \t...\n",
    "### FROM\n",
    "### \tтаблица1 AS короткое_название_1\n",
    "### JOIN таблица2 AS короткое_название_2 ON условие\n",
    "\n",
    "### Название записывается без пробелов и операторов.\n",
    "\n",
    "### Если необходимо записать название, в котором используются пробелы (\"table 1\"), то алиас можно обернуть в кавычки.\n",
    "\n",
    "### Важно! Обращаться по такому алиасу придётся также с помощью кавычек.\n",
    "\n",
    "### SELECT\n",
    "### \t\"table 1\".столбец1,\n",
    "### \t\"table 2\".столбец2,\n",
    "### \t...\n",
    "### FROM\n",
    "### \tтаблица1 AS \"table 1\"\n",
    "### \tJOIN таблица2 AS \"table 2\" ON условие\n",
    "\n",
    "### Использование таких алиасов считается плохой практикой как минимум по причине того, что обращаться с такими алиасами неудобно.\n",
    "\n",
    "### Вместо алиасов с кавычками рекомендуется давать простое короткое название на латинице, без специальных символов и пробелов. Если таблиц немного и все названия начинаются с разных букв, можно присваивать алиасы по первой букве.\n",
    "\n",
    "### Ключевое слово as, как и в названии столбца, можно опустить в большинстве СУБД.\n",
    "\n",
    "### SELECT\n",
    "###         столбец1 новое_название_столбца,\n",
    "### \tстолбец2 новое_название_столбца,\n",
    "### \t...\n",
    "### FROM\n",
    "### \tтаблица1 короткое_название_1\n",
    "### JOIN таблица2 короткое_название_2 ON условие\n",
    "\n",
    "### Давайте попробуем проделать то же самое для наших таблиц."
   ]
  },
  {
   "cell_type": "code",
   "execution_count": null,
   "metadata": {},
   "outputs": [],
   "source": [
    "# 3.2\n",
    "'''\n",
    "select\n",
    "  matches.id as match_id,\n",
    "  teams.id as team_id\n",
    "from sql.matches\n",
    "join sql.teams on home_team_api_id = api_id\n",
    "order by match_id\n",
    "'''"
   ]
  },
  {
   "attachments": {},
   "cell_type": "markdown",
   "metadata": {},
   "source": [
    "### Давайте с помощью запроса SQL получим таблицу, содержащую:\n",
    "\n",
    "* название домашней команды;\n",
    "* количество забитых домашней командой голов;\n",
    "* количество забитых гостевой командой голов;\n",
    "* название гостевой команды.\n",
    "\n"
   ]
  },
  {
   "cell_type": "code",
   "execution_count": null,
   "metadata": {},
   "outputs": [],
   "source": [
    "'''\n",
    "SELECT\n",
    "    h.long_name \"домашняя команда\", /*столбец long_name таблицы h*/\n",
    "    m.home_team_goals \"голы домашней команды\", /*столбец home_team_goals таблицы m*/\n",
    "    m.away_team_goals \"голы гостевой команды\", /*столбец away_team_goals таблицы m*/\n",
    "    a.long_name \"гостевая команда\" /*столбец long_name таблицы a*/\n",
    "FROM\n",
    "    sql.matches m /*таблица matches с алиасом m*/\n",
    "    JOIN sql.teams h ON m.home_team_api_id = h.api_id /*оператор соединения таблиц; таблица teams с алиасом h; условие: home_team_api_id таблицы m равен api_id таблицы h*/\n",
    "    JOIN sql.teams a ON m.away_team_api_id = a.api_id /*оператор соединения таблиц; таблица teams с алиасом a; условие: away_team_api_id таблицы m равен api_id таблицы a*/\n",
    "'''"
   ]
  },
  {
   "cell_type": "code",
   "execution_count": null,
   "metadata": {},
   "outputs": [],
   "source": [
    "# 3.3\n",
    "'''\n",
    "select\n",
    "  matches.id,\n",
    "  home.short_name as home_short,\n",
    "  away.short_name as away_short\n",
    "from sql.matches\n",
    "join sql.teams as home on matches.home_team_api_id = home.api_id\n",
    "join sql.teams as away on matches.away_team_api_id = away.api_id\n",
    "order by matches.id\n",
    "'''"
   ]
  }
 ],
 "metadata": {
  "language_info": {
   "name": "python"
  },
  "orig_nbformat": 4
 },
 "nbformat": 4,
 "nbformat_minor": 2
}

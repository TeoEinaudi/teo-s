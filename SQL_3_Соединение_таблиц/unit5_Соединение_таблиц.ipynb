{
 "cells": [
  {
   "attachments": {},
   "cell_type": "markdown",
   "metadata": {},
   "source": [
    "# Способы соединения таблиц\n",
    "\n",
    "## ОПЕРАТОРЫ\n",
    "\n",
    "### В прошлых юнитах для соединения таблиц мы использовали один оператор — JOIN. В действительности же он не один: существует несколько различных видов соединений (join’ов) — давайте посмотрим, какие ↓\n",
    "\n",
    "## INNER JOIN\n",
    "\n",
    "### INNER JOIN — это тот же JOIN (слово inner в операторе можно опустить).\n",
    "\n",
    "### Принцип работы этого оператора визуализирует изображение ниже.\n",
    "\n",
    "![Alt text](https://lms-cdn.skillfactory.ru/assets/courseware/v1/4d5d75b4a4f5a5ca654aac79889ffe4c/asset-v1%3ASkillFactory%2BDSPR-2.0%2B14JULY2021%2Btype%40asset%2Bblock/dst3-u2-md3_5_1.gif)\n",
    "\n",
    "### Для INNER JOIN работает следующее правило: присоединяются только те строки таблиц, которые удовлетворяют условию соединения. Если в любой из соединяемых таблиц находятся такие строки, которые не удовлетворяют заявленному условию, — они отбрасываются.\n",
    "\n",
    "### Рассмотрим на примере нашего датасета. \n",
    "\n",
    "### В таблице teams есть данные о 299 различных командах — можем проверить это с помощью запроса."
   ]
  },
  {
   "cell_type": "code",
   "execution_count": null,
   "metadata": {},
   "outputs": [],
   "source": [
    "'''\n",
    "SELECT \n",
    "COUNT(DISTINCT id) /*оператор подсчёта строк; оператор исключения повторяющихся строк; столбец id*/\n",
    "FROM sql.teams /*таблица teams*/\n",
    "'''"
   ]
  },
  {
   "cell_type": "code",
   "execution_count": null,
   "metadata": {},
   "outputs": [],
   "source": [
    "'''\n",
    "SELECT \n",
    "COUNT(DISTINCT api_id) /*оператор подсчёта строк; оператор исключения повторяющихся строк; столбец api_id*/\n",
    "FROM sql.teams\n",
    "'''"
   ]
  },
  {
   "attachments": {},
   "cell_type": "markdown",
   "metadata": {},
   "source": [
    "### Теперь добавим к teams таблицу с матчами."
   ]
  },
  {
   "cell_type": "code",
   "execution_count": null,
   "metadata": {},
   "outputs": [],
   "source": [
    "'''\n",
    "SELECT \n",
    "COUNT(DISTINCT t.id) /*оператор подсчёта строк; оператор исключения повторяющихся строк; столбец id*/\n",
    "FROM \n",
    "sql.teams t /*таблица teams с алиасом t*/\n",
    "JOIN sql.matches m ON t.api_id = m.home_team_api_id OR t.api_id = m.away_team_api_id /*оператор соединения inner JOIN; таблица teams с алиасом t; \n",
    "условие: home_team_api_id таблицы m равен api_id таблицы t или away_team_api_id таблицы m равен api_id таблицы t*/\n",
    "'''"
   ]
  },
  {
   "attachments": {},
   "cell_type": "markdown",
   "metadata": {},
   "source": [
    "### И в таблице останется уже не 299 команд, а только 292.\n",
    "\n",
    "### Почему?\n",
    "\n",
    "### Дело в том, что таблица sql.matches по какой-то причине не содержит информацию о командах Lierse SK, KVC Westerlo, KAS Eupen, Club Brugge KV, KV Oostende, RSC Anderlecht и Hull City, зато они есть в таблице sql.teams. Возможно, эти команды не участвовали ни в одном матче или записи по этим матчам были удалены."
   ]
  },
  {
   "attachments": {},
   "cell_type": "markdown",
   "metadata": {},
   "source": [
    "## LEFT OUTER JOIN И RIGHT OUTER JOIN\n",
    "\n",
    "### Также существуют схожие друг с другом типы соединения — LEFT JOIN и RIGHT JOIN (слово outer в операторе можно опустить).\n",
    "\n",
    "### Принцип работы оператора можно описать так:\n",
    "\n",
    "![Alt text](https://lms-cdn.skillfactory.ru/assets/courseware/v1/d81b9a709fc7a2e677adc190862521a0/asset-v1%3ASkillFactory%2BDSPR-2.0%2B14JULY2021%2Btype%40asset%2Bblock/dst3-u2-md3_5_2.gif)\n",
    "\n",
    "### Для LEFT JOIN работает следующее правило: из левой (относительно оператора) таблицы сохраняются все строки, а из правой добавляются только те, которые соответствуют условию соединения. Если в правой таблице не находится соответствия, то значения строк второй таблицы будут иметь значение NULL.\n",
    "\n",
    "### LEFT JOIN может быть полезен, когда соответствующих записей во второй таблице может не быть, но важно сохранить записи из первой таблицы.\n",
    "\n",
    "### Почему соответствий может не быть?\n",
    "\n",
    "### Причины могут быть разные, назовём две основные:\n",
    "\n",
    "* Различная бизнес-логика таблиц.\n",
    "\n",
    "Пример: в интернет-магазине почти всегда можно оформить заказ с промокодом. Вполне вероятно, что информация о промокодах хранится в отдельной таблице, но при этом не для каждого заказа будет существовать промокод, поскольку покупку можно оформить и без него.\n",
    "\n",
    "* Разное время обновления таблиц.\n",
    "\n",
    "Пример: клиент зарегистрировался на сайте интернет-магазина и оформил заказ. Данные о регистрации клиентов могут обновляться в базе данных раз в неделю, а о заказах — раз в сутки.\n",
    "\n",
    "### → Поставим следующую задачу: вывести полные названия команд, данных по которым нет в таблице matches.\n",
    "\n",
    "### Для начала посмотрим на результат запроса после соединения."
   ]
  },
  {
   "cell_type": "code",
   "execution_count": null,
   "metadata": {},
   "outputs": [],
   "source": [
    "'''\n",
    "SELECT\n",
    "    t.long_name, /*столбец long_name таблицы t*/\n",
    "    m.id /*столбец id таблицы m*/\n",
    "FROM sql.teams t /*таблица teams с алиасом t*/\n",
    "LEFT JOIN sql.matches m ON t.api_id = m.home_team_api_id OR t.api_id = m.away_team_api_id /*оператор соединения left JOIN; \n",
    "таблица matches с алиасом m; условие: home_team_api_id таблицы m равен api_id таблицы t или away_team_api_id таблицы m равен api_id таблицы t*/\n",
    "ORDER BY m.id DESC /*сортировка по id таблицы m по убыванию, чтобы увидеть строки со значением null*/\n",
    "'''"
   ]
  },
  {
   "attachments": {},
   "cell_type": "markdown",
   "metadata": {},
   "source": [
    "### Вывод: в таблице teams сохранились все записи, а в таблице matches есть пустые строки.\n",
    "\n",
    "![Alt text](https://lms-cdn.skillfactory.ru/assets/courseware/v1/ed01b99d33d792861e03db598554d3bf/asset-v1%3ASkillFactory%2BDSPR-2.0%2B14JULY2021%2Btype%40asset%2Bblock/dst3-u2-md3_5_3.png)\n",
    "\n",
    "### Теперь, чтобы выбрать такие команды, которые не принимали участия в матчах, достаточно добавить условие where m.id is null (или любое другое поле таблицы matches).\n",
    "\n"
   ]
  },
  {
   "cell_type": "code",
   "execution_count": null,
   "metadata": {},
   "outputs": [],
   "source": [
    "'''\n",
    "SELECT\n",
    "    t.long_name /*столбец long_name таблицы t*/\n",
    "FROM \n",
    "    sql.teams t /*таблица teams с алиасом t*/\n",
    "LEFT JOIN sql.matches m ON t.api_id = m.home_team_api_id OR t.api_id = m.away_team_api_id /*оператор соединения left JOIN; \n",
    "таблица matches с алиасом m; условие: home_team_api_id таблицы m равен api_id таблицы t или away_team_api_id таблицы m равен api_id таблицы t*/\n",
    "WHERE m.id IS NULL /*условие: столбец id таблицы m имеет значение null*/\n",
    "'''"
   ]
  },
  {
   "attachments": {},
   "cell_type": "markdown",
   "metadata": {},
   "source": [
    "### Обратите внимание! Если мы добавим какой-либо фильтр по значению для таблицы matches, то LEFT JOIN превратится в INNER JOIN, поскольку для второй таблицы станет необходимым присутствие значения в строке."
   ]
  },
  {
   "cell_type": "code",
   "execution_count": null,
   "metadata": {},
   "outputs": [],
   "source": [
    "'''\n",
    "SELECT\n",
    "    t.long_name /*столбец long_name таблицы t*/\n",
    "FROM sql.teams t /*таблица teams с алиасом t*/\n",
    "LEFT JOIN sql.matches m ON t.api_id = m.home_team_api_id OR t.api_id = m.away_team_api_id /*оператор соединения left JOIN; \n",
    "таблица matches с алиасом m; условие: home_team_api_id таблицы m равен api_id таблицы t или away_team_api_id таблицы m равен api_id таблицы t*/\n",
    "WHERE\n",
    "    m.season = '2008/2009'  /*условие: столбец season таблицы m имеет значение 2008/2009*/\n",
    "AND t.long_name = 'KAS Eupen' /*условие: столбец long_name таблицы t имеет значение KAS Eupen*/\n",
    "'''"
   ]
  },
  {
   "attachments": {},
   "cell_type": "markdown",
   "metadata": {},
   "source": [
    "### В ответе Metabase получим No results!, так как вместе с фильтром m.season = '2008/2009' исчезли все строки, значения которых NULL."
   ]
  },
  {
   "cell_type": "code",
   "execution_count": null,
   "metadata": {},
   "outputs": [],
   "source": [
    "# 5.1\n",
    "'''\n",
    "select\n",
    "  distinct t.long_name\n",
    "from sql.matches m\n",
    "  left join sql.teams t on t.api_id = m.home_team_api_id or t.api_id = m.away_team_api_id\n",
    "group by t.long_name\n",
    "'''"
   ]
  },
  {
   "attachments": {},
   "cell_type": "markdown",
   "metadata": {},
   "source": [
    "### С LEFT JOIN также работают агрегатные функции, что позволяет не потерять значения из левой таблицы. Например, мы можем вывести сумму голов команд по гостевым матчам.\n",
    "\n"
   ]
  },
  {
   "cell_type": "code",
   "execution_count": null,
   "metadata": {},
   "outputs": [],
   "source": [
    "'''\n",
    "SELECT\n",
    "    t.long_name,\n",
    "    SUM(m.away_team_goals) total_goals\n",
    "FROM \n",
    "    sql.teams t /*таблица teams с алиасом t*/\n",
    "LEFT JOIN sql.matches m ON t.api_id = m.away_team_api_id /*оператор соединения LEFT JOIN; таблица matches с алиасом m; условие: away_team_api_id таблицы m равен api_id таблицы t*/\n",
    "GROUP BY t.id /*группировка по столбцу id таблицы t*/\n",
    "ORDER BY 2 DESC /*сортировка по столбцу total_goals по убыванию, чтобы увидеть строки со значением null*/\n",
    "'''"
   ]
  },
  {
   "attachments": {},
   "cell_type": "markdown",
   "metadata": {},
   "source": [
    "## Обратите внимание! При применении функций SUM, MIN, MAX, AVG к полям со значением NULL в результате получится NULL, а не 0. А при использовании функции COUNT, наоборот, получится 0."
   ]
  },
  {
   "cell_type": "code",
   "execution_count": null,
   "metadata": {},
   "outputs": [],
   "source": [
    "# 5.2\n",
    "'''\n",
    "select\n",
    "  t.long_name,\n",
    "  count(m.id) matches_cnt\n",
    "from sql.teams t\n",
    "  left join sql.matches m on t.api_id = m.home_team_api_id or t.api_id = m.away_team_api_id\n",
    "group by t.id\n",
    "order by 2, 1\n",
    "'''"
   ]
  },
  {
   "attachments": {},
   "cell_type": "markdown",
   "metadata": {},
   "source": [
    "### При использовании RIGHT JOIN сохраняется та же логика, что и для LEFT JOIN, только за основу берётся правая таблица.\n",
    "\n",
    "### Чтобы из LEFT JOIN получить RIGHT JOIN, нужно просто поменять порядок соединения таблиц.\n",
    "\n",
    "### Вообще, применение RIGHT JOIN считается плохим тоном, так как язык SQL читается и пишется слева направо, а такой оператор усложняет чтение запросов.\n",
    "\n",
    "## FULL OUTER JOIN\n",
    "\n",
    "### Оператор FULL OUTER JOIN объединяет в себе LEFT и RIGHT JOIN и позволяет сохранить кортежи обеих таблиц. Даже если не будет соответствий, мы сохраним все записи из обеих таблиц.\n",
    "\n",
    "### FULL OUTER JOIN может быть полезен в ситуациях, когда схема данных недостаточно нормализована и не хватает таблиц-справочников.\n",
    "\n",
    "### Пример: в базе данных интернет-магазина есть две таблицы — с зарегистрированными пользователями и пользователями, оформившими заказ. При этом оформить заказ можно без регистрации, а зарегистрироваться — без оформления заказа.\n",
    "\n",
    "### Предположим, что вам необходимо получить полный список пользователей — и оформивших заказ, и зарегистрированных, — но в базе данных этой объединённой таблицы нет. В данном случае можно использовать FULL OUTER JOIN для получения полного списка, соединив таким образом таблицы c заказами и регистрациями по id пользователя.\n",
    "\n",
    "![Alt text](https://lms-cdn.skillfactory.ru/assets/courseware/v1/6ca460197802a26591af38d2f671d8c3/asset-v1%3ASkillFactory%2BDSPR-2.0%2B14JULY2021%2Btype%40asset%2Bblock/dst3-u2-md3_5_4.png)\n",
    "\n",
    "### Синтаксис FULL OUTER JOIN аналогичен другим JOIN.\n",
    "\n",
    "### SELECT \n",
    "### …\n",
    "### FROM\n",
    "### \ttable1\n",
    "### FULL OUTER JOIN table2 ON условие\n",
    "\n",
    "## CROSS JOIN\n",
    "\n",
    "### На самом деле с этим оператором соединения таблиц вы познакомились в самом начале текущего модуля.\n",
    "\n",
    "### CROSS JOIN соединяет таблицы так, что каждая запись в первой таблице присоединяется к каждой записи во второй таблице, иначе говоря, даёт декартово произведение.\n",
    "\n",
    "![Alt text](https://lms-cdn.skillfactory.ru/assets/courseware/v1/bab33905e69032274d6f7e9f4abced95/asset-v1%3ASkillFactory%2BDSPR-2.0%2B14JULY2021%2Btype%40asset%2Bblock/dst3-u2-md3_5_5.png)\n",
    "\n",
    "### В начале модуля вы использовали этот оператор, записывая таблицы через запятую.\n",
    "\n"
   ]
  },
  {
   "cell_type": "code",
   "execution_count": null,
   "metadata": {},
   "outputs": [],
   "source": [
    "'''\n",
    "SELECT * /*выбор всех полей*/\n",
    "FROM\n",
    "    sql.teams, /*таблица teams*/\n",
    "    sql.matches /*таблица matches*/\n",
    "'''"
   ]
  },
  {
   "attachments": {},
   "cell_type": "markdown",
   "metadata": {},
   "source": [
    "### Этот же запрос можно записать с использованием CROSS JOIN."
   ]
  },
  {
   "cell_type": "code",
   "execution_count": null,
   "metadata": {},
   "outputs": [],
   "source": [
    "'''\n",
    "SELECT * /*выбор всех полей*/\n",
    "FROM\n",
    "    sql.teams /*таблица teams*/\n",
    "    CROSS JOIN sql.matches /*таблица matches*/\n",
    "'''"
   ]
  },
  {
   "attachments": {},
   "cell_type": "markdown",
   "metadata": {},
   "source": [
    "## Обратите внимание! Условие для CROSS JOIN, в отличие от других операторов, не требуется.\n",
    "\n",
    "### Также этот запрос можно записать с помощью INNER JOIN с условием on true — результат будет тот же."
   ]
  },
  {
   "cell_type": "code",
   "execution_count": null,
   "metadata": {},
   "outputs": [],
   "source": [
    "'''\n",
    "SELECT * /*выбор всех полей*/\n",
    "FROM\n",
    "    sql.teams /*таблица teams*/\n",
    "    JOIN sql.matches ON TRUE /*оператор соединения INNER JOIN; таблица matches; условие: для всех случаев*/\n",
    "'''"
   ]
  },
  {
   "attachments": {},
   "cell_type": "markdown",
   "metadata": {},
   "source": [
    "### CROSS JOIN может быть полезен, когда необходимо создать таблицу фактов.\n",
    "\n",
    "### Например, с помощью такого запроса мы можем получить все возможные комбинации полных названий команд в матчах."
   ]
  },
  {
   "cell_type": "code",
   "execution_count": null,
   "metadata": {},
   "outputs": [],
   "source": [
    "'''\n",
    "SELECT\n",
    "    DISTINCT /*оператор исключения повторяющихся строк*/\n",
    "    t1.long_name home_team, /*столбец long_name таблицы t1; новое название*/\n",
    "    t2.long_name away_team /*столбец long_name таблицы t2; новое название*/\n",
    "FROM\n",
    "    sql.teams t1 /*таблица teams с алиасом t1*/\n",
    "    CROSS JOIN sql.teams t2 /*оператор соединения CROSS JOIN; таблица teams с алиасом t2*/\n",
    "'''"
   ]
  },
  {
   "cell_type": "code",
   "execution_count": null,
   "metadata": {},
   "outputs": [],
   "source": [
    "# 5.3\n",
    "'''\n",
    "select\n",
    "  distinct\n",
    "  t1.short_name home_team,\n",
    "  t2.short_name away_team\n",
    "from sql.teams t1\n",
    "  cross join sql.teams t2\n",
    "group by 1, 2\n",
    "order by 1, 2\n",
    "'''"
   ]
  },
  {
   "attachments": {},
   "cell_type": "markdown",
   "metadata": {},
   "source": [
    "## NATURAL JOIN\n",
    "\n",
    "### Ключевое слово natural в начале оператора JOIN позволяет не указывать условие соединения таблиц — для соединения будут использованы столбцы с одинаковым названием из этих таблиц.\n",
    "\n",
    "## NATURAL JOIN можно использовать с любыми видами соединений, которые требуют условия соединения:\n",
    "\n",
    "* → NATURAL INNER JOIN (возможна запись NATURAL JOIN);\n",
    "* → NATURAL LEFT JOIN;\n",
    "* → NATURAL RIGHT JOIN;\n",
    "* → NATURAL FULL OUTER JOIN.\n",
    "\n",
    "### При использовании NATURAL JOIN прежде всего стоит обратить внимание на ключи таблиц. Для наших таблиц teams и matches этот вид соединения не подойдёт, так как общим для обеих таблиц является столбец id, но таблицы соединяются по другим столбцам.\n",
    "\n",
    "### Когда у таблиц есть несколько столбцов с одинаковыми именами, при NATURAL JOIN условие соединения будет применено на все столбцы с одинаковыми именами.\n",
    "\n",
    "## То есть для таблиц table1 и table2\n",
    "\n",
    "### table1: id, name, ...\n",
    "\n",
    "### table2: id, name, ...\n",
    "\n",
    "## запрос\n",
    "\n",
    "### SELECT \n",
    "### …\n",
    "### FROM          table1 NATURAL JOIN table2\n",
    "\n",
    "## будет равнозначен запросу\n",
    "\n",
    "### SELECT\n",
    "### …\n",
    "### FROM          table1 t1\n",
    "### INNER JOIN table2 t2 ON t1.id = t2.id AND t1.name = t2.name\n",
    "\n",
    "\n",
    "## ОБЩАЯ ЛОГИКА ПОСТРОЕНИЯ ЗАПРОСА С JOIN\n",
    "\n",
    "### При построении запроса с несколькими JOIN старайтесь идти слева направо. Сначала выберите таблицу, которая является центральной в соответствии с поставленной задачей, вопросом. Затем добавляйте таблицы поэтапно в зависимости от бизнес-логики запроса.\n",
    "\n",
    "### Например, для ответа на вопрос: «Какая команда сыграла больше всех матчей в сезоне 2010/2011?» в качестве центральной лучше выбрать таблицу с командами.\n",
    "\n",
    "### А для ответа на вопрос: «В каком сезоне участвовало больше всего команд?» — таблицу с матчами.\n",
    "\n",
    "### Стоит отметить, что из рассмотренных видов соединений чаще всего используются INNER JOIN и LEFT JOIN. Другие операторы используются реже, но стоит помнить об их существовании при решении нестандартных задач."
   ]
  },
  {
   "attachments": {},
   "cell_type": "markdown",
   "metadata": {},
   "source": [
    "## Виды джойнов\n",
    "\n",
    "## [Здесь!](https://view.genial.ly/617fe0627516f70d8cd39fb0/horizontal-infographic-review-modul-sql-3)"
   ]
  },
  {
   "cell_type": "code",
   "execution_count": null,
   "metadata": {},
   "outputs": [],
   "source": [
    "# 6.1\n",
    "'''\n",
    "select\n",
    "  t.long_name\n",
    "from sql.teams t\n",
    "  join sql.matches m on t.api_id = m.away_team_api_id\n",
    "where season = '2012/2013'\n",
    "group by 1\n",
    "order by 1\n",
    "'''"
   ]
  },
  {
   "cell_type": "code",
   "execution_count": null,
   "metadata": {},
   "outputs": [],
   "source": [
    "# 6.2\n",
    "'''\n",
    "select\n",
    "  t.long_name,\n",
    "  count(m.id) matches_cnt\n",
    "from\n",
    "  sql.teams t\n",
    "  join sql.matches m on t.api_id = m.home_team_api_id\n",
    "where t.long_name = 'Inter'\n",
    "group by 1\n",
    "order by 2\n",
    "'''"
   ]
  },
  {
   "cell_type": "code",
   "execution_count": null,
   "metadata": {},
   "outputs": [],
   "source": [
    "# 6.3\n",
    "'''\n",
    "select\n",
    "  t.long_name,\n",
    "  sum(m.away_team_goals) total_goals\n",
    "from\n",
    "  sql.teams t\n",
    "  join sql.matches m on t.api_id = m.away_team_api_id\n",
    "group by 1\n",
    "order by 2 desc\n",
    "limit 10\n",
    "'''"
   ]
  },
  {
   "cell_type": "code",
   "execution_count": null,
   "metadata": {},
   "outputs": [],
   "source": [
    "# 6.4\n",
    "'''\n",
    "select\n",
    "  count(t1.id) + count(t2.id)\n",
    "from\n",
    "  sql.matches m\n",
    "  join sql.teams t1 on t1.api_id = m.home_team_api_id \n",
    "  join sql.teams t2 on t2.api_id = m.away_team_api_id\n",
    "where (t1.long_name = 'Real Madrid CF' and t2.long_name = 'FC Barcelona')\n",
    "order by 1\n",
    "'''"
   ]
  },
  {
   "cell_type": "code",
   "execution_count": null,
   "metadata": {},
   "outputs": [],
   "source": [
    "# 6.5\n",
    "'''\n",
    "select\n",
    "  t.long_name,\n",
    "  m.season,\n",
    "  sum(m.home_team_goals) total_goals\n",
    "from\n",
    "  sql.teams t\n",
    "  join sql.matches m on t.api_id = m.home_team_api_id\n",
    "group by 1, 2\n",
    "having sum(m.home_team_goals) < 10\n",
    "order by 1, 2, 3\n",
    "'''"
   ]
  }
 ],
 "metadata": {
  "language_info": {
   "name": "python"
  },
  "orig_nbformat": 4
 },
 "nbformat": 4,
 "nbformat_minor": 2
}

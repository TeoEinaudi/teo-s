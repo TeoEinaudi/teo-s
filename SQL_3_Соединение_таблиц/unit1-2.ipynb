{
 "cells": [
  {
   "attachments": {},
   "cell_type": "markdown",
   "metadata": {},
   "source": [
    "## → Первым делом — знакомимся с датасетом.\n",
    "\n",
    "### В этом модуле мы будем работать с таблицами о футбольных матчах и командах.\n",
    "\n",
    "### Таблицы этого модуля, как и все другие в курсе, лежат в схеме sql в Metabase. Нам понадобятся таблицы teams и matches.\n",
    "\n",
    "## Таблица teams с данными о командах\n",
    "\n",
    "### id\t* id команды\n",
    "### api_id\t* ключ на таблицу matches\n",
    "### long_name\t* полное название команды\n",
    "### short_name\t* сокращённое название команды\n",
    "\n",
    "## Таблица matches с данными о матчах\n",
    "\n",
    "### id\t* id матча\n",
    "### season *\tсезон\n",
    "### date *\tдата матча\n",
    "### home_team_api_id *\tapi_id домашней команды, ключ на таблицу teams\n",
    "### away_team_api_id *\tapi_id гостевой команды, ключ на таблицу teams\n",
    "### home_team_goals\t* количество голов домашней команды\n",
    "### away_team_goals *\tколичество голов гостевой команды"
   ]
  },
  {
   "cell_type": "code",
   "execution_count": null,
   "metadata": {},
   "outputs": [],
   "source": [
    "# 1.2\n",
    "'''\n",
    "select season, sum(home_team_goals) as total_home_goals, sum(away_team_goals) as total_away_goals\n",
    "from sql.matches\n",
    "group by season\n",
    "order by season asc\n",
    "''' "
   ]
  },
  {
   "attachments": {},
   "cell_type": "markdown",
   "metadata": {},
   "source": [
    "# Соединение таблиц по ключу\n",
    "\n",
    "## ОБЪЕДИНЯЕМ ТАБЛИЦЫ БЕЗ ОПЕРАТОРОВ\n",
    "\n",
    "### ✍ Существует несколько способов соединения таблиц. Мы познакомимся со всеми основными операторами, которые используются для этих нужд, но начнём с простого метода объединения таблиц — без операторов.\n",
    "\n",
    "### Чтобы соединить две таблицы между собой, достаточно записать названия таблиц через запятую в разделе from. Что произойдёт в таком случае?\n",
    "\n"
   ]
  },
  {
   "cell_type": "code",
   "execution_count": null,
   "metadata": {},
   "outputs": [],
   "source": [
    "'''\n",
    "SELECT * /*выбор всех полей*/\n",
    "FROM\n",
    "    sql.teams, /*таблица с командами*/\n",
    "    sql.matches /*таблица с матчами*/\n",
    "'''"
   ]
  },
  {
   "attachments": {},
   "cell_type": "markdown",
   "metadata": {},
   "source": [
    "### Каждая запись, которая есть в таблице teams, будет соединена с каждой записью в таблице matches.\n",
    "\n",
    "### Это действие также называют декартовым произведением таблиц.\n",
    "\n",
    "![Alt text](https://lms-cdn.skillfactory.ru/assets/courseware/v1/bab33905e69032274d6f7e9f4abced95/asset-v1%3ASkillFactory%2BDSPR-2.0%2B14JULY2021%2Btype%40asset%2Bblock/dst3-u2-md3_2_1.png)\n",
    "\n",
    "## Действительно ли это произведение?\n",
    "\n",
    "### Легко проверить! В исходных таблицах teams и matches было 299 и 25083 записей соответственно. Если соединить каждую запись одной таблицы с каждой записью другой, получится 299 * 25083 записей в итоговой таблице.\n",
    "\n",
    "### В данном случае соединение таблиц не даёт практической пользы: мы получили очень много записей, которые никак не можем интерпретировать, потому что команды не соответствуют матчам.\n",
    "\n",
    "### Давайте исправим это. В таблице teams есть столбец api_id, а таблица matches содержит столбцы home_team_api_id и away_team_api_id — это ключи таблиц, по которым они соединяются.\n",
    "\n",
    "## Ключ — это поле (столбец) в таблице, которое позволяет однозначно идентифицировать запись (строку).\n",
    "\n",
    "### Чтобы соединить таблицы и получить данные о домашней команде по каждому матчу, добавим условие\n",
    "### ''where home_team_api_id = api_id''."
   ]
  },
  {
   "cell_type": "code",
   "execution_count": null,
   "metadata": {},
   "outputs": [],
   "source": [
    "'''\n",
    "SELECT * /*выбор всех полей в таблице*/\n",
    "FROM\n",
    "    sql.teams, /*таблица с командами*/\n",
    "    sql.matches /*таблица с матчами*/\n",
    "WHERE home_team_api_id = api_id /*условие: home_team_api_id таблицы matches равен api_id таблицы teams*/\n",
    "'''"
   ]
  },
  {
   "attachments": {},
   "cell_type": "markdown",
   "metadata": {},
   "source": [
    "### Аналогично можем получить данные о гостевых командах: необходимо изменить условие на\n",
    "### ''where away_team_api_id = api_id''."
   ]
  },
  {
   "cell_type": "code",
   "execution_count": null,
   "metadata": {},
   "outputs": [],
   "source": [
    "'''\n",
    "SELECT * /*выбор всех полей в таблицы*/\n",
    "FROM\n",
    "    sql.teams, /*таблица с командами*/\n",
    "    sql.matches /*таблица с матчами*/\n",
    "WHERE away_team_api_id = api_id /*условие: away_team_api_id таблицы matches равен api_id таблицы teams*/\n",
    "'''"
   ]
  },
  {
   "attachments": {},
   "cell_type": "markdown",
   "metadata": {},
   "source": [
    "### Итак, мы только что объединили таблицы по ключу.\n",
    "\n",
    "### Вы уже знакомы с ключами по таблице pokemon (там в этой роли выступал столбец id). Ключи нужны для того, чтобы иметь возможность не перепутать между собой различные записи.\n",
    "\n",
    "### → Например, у нас есть несколько команд с одинаковым названием: Polonia Bytom, Widzew Łódź и Royal Excel Mouscron — хотя это разные команды, с разными id.\n",
    "### Кроме того, как мы уже смогли убедиться, ключи используются для соединения таблиц между собой.\n",
    "\n",
    "## Ключи бывают двух основных типов:\n",
    "\n",
    "* ### Primary — первичный ключ — служит для идентификации текущей таблицы и, как правило, идёт первым в списке столбцов. Всегда уникален: повторяющихся значений в основной таблице быть не может.\n",
    "* ### Foreign — внешний ключ — представляет собой ссылку на другую таблицу.\n",
    "\n",
    "### Как правило, названия ключей имеют «хвост», который позволяет их идентифицировать: например, _id, _rk, _cd, _pk (от primary_key), _fk (от foreign_key) и другие.\n",
    "\n",
    "### Обратите внимание! В данном датасете ключ api_id таблицы teams может быть использован в разных значениях. Его можно использовать для того, чтобы получить информацию о домашней (home) или гостевой (away) команде.\n",
    "\n",
    "### Вы могли заметить, что в последних двух запросах получилось очень много столбцов. Как и при работе с одиночной таблицей, мы можем выбирать, какие столбцы соединённой таблицы выводить.\n",
    "\n",
    "### С помощью известного нам запроса получим названия команд, игравших домашние матчи, и счёт матчей."
   ]
  },
  {
   "cell_type": "code",
   "execution_count": null,
   "metadata": {},
   "outputs": [],
   "source": [
    "'''\n",
    "SELECT \n",
    "    long_name, /*столбец long_name таблицы teams*/\n",
    "    home_team_goals, /*столбец home_team_goals таблицы matches*/\n",
    "    away_team_goals /*столбец away_team_goals таблицы matches*/\n",
    "FROM\n",
    "    sql.teams, /*таблица с командами*/\n",
    "    sql.matches /*таблица с матчами*/\n",
    "WHERE home_team_api_id = api_id /*условие: home_team_api_id таблицы matches равен api_id таблицы teams*/\n",
    "'''"
   ]
  },
  {
   "cell_type": "code",
   "execution_count": null,
   "metadata": {},
   "outputs": [],
   "source": [
    "# 2.2\n",
    "'''\n",
    "select\n",
    "  long_name,\n",
    "  home_team_goals,\n",
    "  away_team_goals\n",
    "from\n",
    "  sql.matches,\n",
    "  sql.teams\n",
    "where away_team_api_id = api_id\n",
    "'''"
   ]
  },
  {
   "cell_type": "code",
   "execution_count": 3,
   "metadata": {},
   "outputs": [
    {
     "name": "stdout",
     "output_type": "stream",
     "text": [
      "Collecting folium\n",
      "  Downloading folium-0.14.0-py2.py3-none-any.whl (102 kB)\n",
      "                                              0.0/102.3 kB ? eta -:--:--\n",
      "     -----------                             30.7/102.3 kB 1.3 MB/s eta 0:00:01\n",
      "     -------------------------------------- 102.3/102.3 kB 1.5 MB/s eta 0:00:00\n",
      "Collecting branca>=0.6.0 (from folium)\n",
      "  Downloading branca-0.6.0-py3-none-any.whl (24 kB)\n",
      "Collecting jinja2>=2.9 (from folium)\n",
      "  Downloading Jinja2-3.1.2-py3-none-any.whl (133 kB)\n",
      "                                              0.0/133.1 kB ? eta -:--:--\n",
      "     -------------------------------------- 133.1/133.1 kB 2.6 MB/s eta 0:00:00\n",
      "Requirement already satisfied: numpy in c:\\users\\матвей\\appdata\\local\\programs\\python\\python311\\lib\\site-packages (from folium) (1.24.2)\n",
      "Requirement already satisfied: requests in c:\\users\\матвей\\appdata\\local\\programs\\python\\python311\\lib\\site-packages (from folium) (2.31.0)\n",
      "Collecting MarkupSafe>=2.0 (from jinja2>=2.9->folium)\n",
      "  Downloading MarkupSafe-2.1.3-cp311-cp311-win_amd64.whl (17 kB)\n",
      "Requirement already satisfied: charset-normalizer<4,>=2 in c:\\users\\матвей\\appdata\\local\\programs\\python\\python311\\lib\\site-packages (from requests->folium) (3.1.0)\n",
      "Requirement already satisfied: idna<4,>=2.5 in c:\\users\\матвей\\appdata\\local\\programs\\python\\python311\\lib\\site-packages (from requests->folium) (3.4)\n",
      "Requirement already satisfied: urllib3<3,>=1.21.1 in c:\\users\\матвей\\appdata\\local\\programs\\python\\python311\\lib\\site-packages (from requests->folium) (2.0.2)\n",
      "Requirement already satisfied: certifi>=2017.4.17 in c:\\users\\матвей\\appdata\\local\\programs\\python\\python311\\lib\\site-packages (from requests->folium) (2023.5.7)\n",
      "Installing collected packages: MarkupSafe, jinja2, branca, folium\n",
      "Successfully installed MarkupSafe-2.1.3 branca-0.6.0 folium-0.14.0 jinja2-3.1.2\n"
     ]
    }
   ],
   "source": [
    "!pip install folium"
   ]
  }
 ],
 "metadata": {
  "kernelspec": {
   "display_name": "Python 3",
   "language": "python",
   "name": "python3"
  },
  "language_info": {
   "codemirror_mode": {
    "name": "ipython",
    "version": 3
   },
   "file_extension": ".py",
   "mimetype": "text/x-python",
   "name": "python",
   "nbconvert_exporter": "python",
   "pygments_lexer": "ipython3",
   "version": "3.11.2"
  },
  "orig_nbformat": 4
 },
 "nbformat": 4,
 "nbformat_minor": 2
}

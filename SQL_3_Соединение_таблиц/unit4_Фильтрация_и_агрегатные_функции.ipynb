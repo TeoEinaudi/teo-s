{
 "cells": [
  {
   "attachments": {},
   "cell_type": "markdown",
   "metadata": {},
   "source": [
    "# Фильтрация и агрегатные функции\n",
    "\n",
    "## РАБОТА С ОБЪЕДИНЁННЫМИ ТАБЛИЦАМИ\n",
    "\n",
    "### ✍ Соединять таблицы мы научились, теперь давайте научимся получать необходимые данные из нескольких таблиц ↓\n",
    "\n",
    "### Принцип построения запроса и порядок операторов такой же, как и с обычной таблицей.\n",
    "\n",
    "### Вспомним его:\n",
    "\n",
    "* SELECT... \n",
    "* FROM... \n",
    "* WHERE... \n",
    "* GROUP BY... \n",
    "* ORDER BY... \n",
    "* LIMIT...\n",
    "\n",
    "## ФИЛЬТРАЦИЯ ДАННЫХ\n",
    "\n",
    "### К соединённым таблицам применимы функции фильтрации данных.\n",
    "\n",
    "### Например, можно вывести id матчей, в которых команда Arsenal была гостевой."
   ]
  },
  {
   "cell_type": "code",
   "execution_count": null,
   "metadata": {},
   "outputs": [],
   "source": [
    "'''\n",
    "SELECT \n",
    "    m.id /*столбец id таблицы m*/\n",
    "FROM\n",
    "    sql.teams t /*таблица teams с алиасом t*/\n",
    "    JOIN sql.matches m ON m.away_team_api_id = t.api_id /*оператор соединения таблиц; таблица matches с алиасом m; условие: away_team_api_id таблицы m равен api_id таблицы t*/\n",
    "WHERE long_name = 'Arsenal' /*long_name таблицы teams имеет значение Arsenal*/\n",
    "'''"
   ]
  },
  {
   "attachments": {},
   "cell_type": "markdown",
   "metadata": {},
   "source": [
    "### Принципиальное отличие фильтрации данных по соединённым таблицам от аналогичного действия по одиночным таблицам заключается в том, что, фильтруя записи одной таблицы, мы также будем фильтровать и записи другой таблицы, поскольку соединённые на уровне запроса таблицы по сути являются единой таблицей.\n",
    "\n",
    "### Например, результат запроса\n",
    "\n",
    "### SELECT \n",
    "### \tm.id id_1,\n",
    "### \tm.season,\n",
    "### \tt.id id_2,\n",
    "### \tt.long_name\n",
    "### FROM\n",
    "### \tsql.teams t\n",
    "### JOIN sql.matches m ON m.away_team_api_id = t.api_id\n",
    "\n",
    "### можно разделить на две разные части\n",
    "\n",
    "![Alt text](https://lms-cdn.skillfactory.ru/assets/courseware/v1/7281095f07ca452dfb5963c7ea912fe7/asset-v1%3ASkillFactory%2BDSPR-2.0%2B14JULY2021%2Btype%40asset%2Bblock/dst3-u2-md3_4_1.png)\n",
    "\n",
    "### Одна часть — таблица matches с алиасом m, вторая — teams с алиасом t, но после соединения они являются одной таблицей.\n",
    "\n",
    "### Таким образом, если вы отфильтруете данные по одной части таблицы, то другая, соединённая, часть пропадёт вместе с ней."
   ]
  },
  {
   "cell_type": "code",
   "execution_count": null,
   "metadata": {},
   "outputs": [],
   "source": [
    "# 4.1 \n",
    "'''\n",
    "select\n",
    "    t.long_name long_name,\n",
    "    m.home_team_goals home_goal,\n",
    "    m.away_team_goals away_goal\n",
    "from sql.matches m \n",
    "    join sql.teams t on m.home_team_api_id = t.api_id \n",
    "where t.short_name = 'GEN'\n",
    "group by m.id, long_name, home_goal, away_goal\n",
    "order by m.id\n",
    "'''"
   ]
  },
  {
   "attachments": {},
   "cell_type": "markdown",
   "metadata": {},
   "source": [
    "### Также мы можем отфильтровать записи сразу по двум таблицам.\n",
    "\n",
    "### Например, можно оставить только записи, в которых короткое название домашней команды GEN и матчи сезона 2008/2009.\n",
    "\n"
   ]
  },
  {
   "cell_type": "code",
   "execution_count": null,
   "metadata": {},
   "outputs": [],
   "source": [
    "'''\n",
    "SELECT * /*выбор всех полей*/\n",
    "FROM    \n",
    "    sql.matches m /*таблица matches с алиасом m*/\n",
    "    JOIN sql.teams t on t.api_id = m.home_team_api_id /*оператор соединения таблиц; таблица teams с алиасом t; условие: home_team_api_id таблицы m равен api_id таблицы t*/\n",
    "WHERE\n",
    "    t.short_name = 'GEN' /*столбец short_name таблицы t имеет значение GEN*/\n",
    "    AND m.season = '2008/2009' /*столбец season таблицы m имеет значение 2008/2009*/\n",
    "'''"
   ]
  },
  {
   "cell_type": "code",
   "execution_count": null,
   "metadata": {},
   "outputs": [],
   "source": [
    "# 4.2\n",
    "'''\n",
    "select\n",
    "  m.id,\n",
    "  h.short_name home_short,\n",
    "  a.short_name away_short\n",
    "from sql.matches m\n",
    "  join sql.teams h on m.home_team_api_id = h.api_id\n",
    "  join sql.teams a on m.away_team_api_id = a.api_id\n",
    "where m.season='2011/2012' and (h.long_name = 'Liverpool' or a.long_name = 'Liverpool')\n",
    "group by m.id, home_short, away_short\n",
    "'''"
   ]
  },
  {
   "attachments": {},
   "cell_type": "markdown",
   "metadata": {},
   "source": [
    "## АГРЕГАЦИЯ ДАННЫХ\n",
    "\n",
    "### К соединённым таблицам также применимы любые агрегатные функции — самые важные функции для анализа данных.\n",
    "\n",
    "### Например, мы можем вывести сумму голов по командам для матчей, где команда выступала в гостях.\n",
    "\n"
   ]
  },
  {
   "cell_type": "code",
   "execution_count": null,
   "metadata": {},
   "outputs": [],
   "source": [
    "'''\n",
    "SELECT\n",
    "    t.long_name, /*столбец long_name таблицы t*/\n",
    "    SUM(m.home_team_goals) + SUM(m.away_team_goals) match_goals /*функция суммирования; столбец home_team_goals таблицы m; функция суммирования; столбец away_team_goals таблицы m; новое название столбца*/\n",
    "FROM\n",
    "    sql.matches m /*таблица matches с алиасом m*/\n",
    "    JOIN sql.teams t ON m.away_team_api_id = t.api_id /*оператор соединения таблиц; таблица teams с алиасом t; условие: away_team_api_id таблицы m равен api_id таблицы t*/\n",
    "GROUP BY t.id /*группировка по столбцу id таблицы t*/\n",
    "'''"
   ]
  },
  {
   "attachments": {},
   "cell_type": "markdown",
   "metadata": {},
   "source": [
    "## Обратите внимание! В данном запросе была использована группировка по столбцу id таблицы teams, хотя этот столбец не выводится в запросе. Это необходимо для того, чтобы команды с одинаковым названием, если такие найдутся, не группировались между собой. Группировка по названию команды в данном запросе будет неверной, так как есть несколько команд с одинаковым полным названием — мы говорили об этом в начале модуля.\n",
    "\n",
    "### Также, применяя агрегатные функции к соединённым таблицам, обращайте внимание на указание алиасов (или таблиц) при группировке и указании столбцов агрегатных функций. В нашей соединённой таблице есть два столбца с названием id, и если бы мы сформировали запрос без указания таблицы, как указано ниже, то..."
   ]
  },
  {
   "cell_type": "code",
   "execution_count": null,
   "metadata": {},
   "outputs": [],
   "source": [
    "'''\n",
    "SELECT\n",
    "    t.long_name, /*столбец long_name таблицы t*/\n",
    "    SUM(m.home_team_goals) + SUM(m.away_team_goals) match_goals /*функция суммирования; столбец home_team_goals таблицы m; функция суммирования; столбец away_team_goals таблицы m; новое название столбца*/\n",
    "FROM\n",
    "    sql.matches m /*таблица matches с алиасом m*/\n",
    "    JOIN sql.teams t ON m.away_team_api_id = t.api_id /*оператор соединения таблиц; таблица teams с алиасом t; условие: away_team_api_id таблицы m равен api_id таблицы t*/\n",
    "GROUP BY id /*группировка по столбцу id, но не указано, какой таблицы*/\n",
    "'''"
   ]
  },
  {
   "attachments": {},
   "cell_type": "markdown",
   "metadata": {},
   "source": [
    "### система выдала бы уже знакомую нам ошибку: \"... column \"id\" is ambiguous ...\".\n",
    "\n",
    "### Мы можем использовать оператор HAVING для фильтрации сгруппированных данных.\n",
    "\n",
    "### Поставим задачу — вывести таблицу с суммарным количеством забитых голов в матчах по командам и сезонам для команд, в которых суммарное количество голов в матчах сезона больше 100.\n",
    "\n",
    "### Для начала посчитаем общее количество голов в матчах по сезонам."
   ]
  },
  {
   "cell_type": "code",
   "execution_count": null,
   "metadata": {},
   "outputs": [],
   "source": [
    "'''\n",
    "SELECT\n",
    "    m.season, /*столбец season таблицы m*/\n",
    "    SUM(m.home_team_goals) + SUM(m.away_team_goals) total_goals /*функция суммирования; столбец home_team_goals таблицы m; функция суммирования; столбец away_team_goals таблицы m; новое название столбца*/\n",
    "FROM sql.matches m /*таблица matches с алиасом m*/\n",
    "GROUP BY m.season /*группировка по столбцу season таблицы m*/\n",
    "'''"
   ]
  },
  {
   "attachments": {},
   "cell_type": "markdown",
   "metadata": {},
   "source": [
    "### Затем добавим таблицу с командами, группировку по командам и условие фильтрации."
   ]
  },
  {
   "cell_type": "code",
   "execution_count": null,
   "metadata": {},
   "outputs": [],
   "source": [
    "'''\n",
    "SELECT\n",
    "    m.season, /*столбец season таблицы m*/\n",
    "    t.long_name, /*столбец long_name таблицы t*/\n",
    "    SUM(m.home_team_goals) + SUM(m.away_team_goals) total_goals /*функция суммирования; столбец home_team_goals таблицы m; функция суммирования; \n",
    "    столбец away_team_goals таблицы m; новое название столбца*/\n",
    "FROM sql.matches m /*таблица matches с алиасом m*/\n",
    "JOIN sql.teams t ON t.api_id = m.home_team_api_id OR t.api_id = m.away_team_api_id /*оператор соединения таблиц; таблица teams с алиасом t; \n",
    "условие: home_team_api_id таблицы m равен api_id таблицы t или away_team_api_id таблицы m равен api_id таблицы t*/\n",
    "GROUP BY m.season, t.id /*группировка по столбцам season таблицы m и id таблицы t*/\n",
    "HAVING SUM(m.home_team_goals) + SUM(m.away_team_goals) > 100 /*оператор фильтрации сгруппированных данных; функция суммирования; \n",
    "home_team_goals таблицы m; функция суммирования; away_team_goals таблицы m; больше 100*/\n",
    "'''"
   ]
  }
 ],
 "metadata": {
  "language_info": {
   "name": "python"
  },
  "orig_nbformat": 4
 },
 "nbformat": 4,
 "nbformat_minor": 2
}

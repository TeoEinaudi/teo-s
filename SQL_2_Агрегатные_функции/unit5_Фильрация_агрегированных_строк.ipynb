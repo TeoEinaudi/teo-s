{
 "cells": [
  {
   "attachments": {},
   "cell_type": "markdown",
   "metadata": {},
   "source": [
    "# Фильтрация агрегированных строк\n",
    "\n",
    "### ✍ Если ключевое слово WHERE определяет фильтрацию строк до агрегирования, то для фильтрации уже агрегированных данных применяется ключевое слово **HAVING**."
   ]
  },
  {
   "attachments": {},
   "cell_type": "markdown",
   "metadata": {},
   "source": [
    "### Важно! HAVING обязательно пишется после GROUP BY.\n",
    "\n",
    "### Выведем типы покемонов и их средний показатель атаки, при этом оставим только тех, у кого средняя атака больше 90."
   ]
  },
  {
   "cell_type": "code",
   "execution_count": null,
   "metadata": {},
   "outputs": [],
   "source": [
    "'''\n",
    "SELECT /*выбор*/\n",
    "    type1 AS primary_type, /*таблица type1; присвоить алиас primary_type*/\n",
    "    AVG(attack) AS avg_attack /*расчёт среднего по столбцу attack; присвоить алиас avg_attack*/\n",
    "FROM sql.pokemon /*из таблицы sql.pokemon*/\n",
    "GROUP BY primary_type /*группировать по столбцу primary_type*/\n",
    "HAVING AVG(attack) > 90 /*фильтровать по среднему значению attack, превышающему 90*/\n",
    "'''"
   ]
  },
  {
   "attachments": {},
   "cell_type": "markdown",
   "metadata": {},
   "source": [
    "### Попробуйте удалить из запроса вывод второго столбца (со средним показателем атаки).\n",
    "\n",
    "### Что получилось?\n",
    "\n",
    "### Запрос работает и выводит только названия типов, у которых средний показатель атаки выше 90.\n",
    "\n",
    "### В HAVING вы можете использовать все те же условия, что и в WHERE.\n",
    "\n",
    "## ДОПОЛНИТЕЛЬНО\n",
    "\n",
    "### Об отличиях HAVING от WHERE можно прочитать в [официальной документации](https://postgrespro.ru/docs/postgresql/11/tutorial-agg).\n",
    "\n",
    "## ВМЕСТО РЕЗЮМЕ\n",
    "\n",
    "### В общем виде синтаксис оператора SELECT, с учётом имеющихся на данный момент знаний, представляем следующим образом:\n",
    "\n",
    "### '''\n",
    "### SELECT [ALL | DISTINCT] список_столбцов|*\n",
    "### FROM список_имён_таблиц\n",
    "### [WHERE условие_поиска]\n",
    "### [GROUP BY список_имён_столбцов]\n",
    "### [HAVING условие_поиска]\n",
    "### [ORDER BY имя_столбца [ASC | DESC],…]\n",
    "### '''\n",
    "\n",
    "### Обратите внимание! В квадратных скобках указаны необязательные предложения: они могут отсутствовать в операторе SELECT."
   ]
  },
  {
   "cell_type": "code",
   "execution_count": null,
   "metadata": {},
   "outputs": [],
   "source": [
    "'''\n",
    "select \n",
    "  type1 primary_type,\n",
    "  type2 additional_type\n",
    "from sql.pokemon\n",
    "group by primary_type, additional_type\n",
    "having avg(attack) > 100 and max(hp) < 80\n",
    "'''"
   ]
  },
  {
   "cell_type": "code",
   "execution_count": null,
   "metadata": {},
   "outputs": [],
   "source": [
    "'''\n",
    "select\n",
    "  type1 primary_type,\n",
    "  count(*) pokemon_count\n",
    "from sql.pokemon\n",
    "where name like 'S%'\n",
    "group by primary_type\n",
    "having avg(defense) > 80\n",
    "order by pokemon_count desc\n",
    "limit 3\n",
    "'''"
   ]
  },
  {
   "attachments": {},
   "cell_type": "markdown",
   "metadata": {},
   "source": [
    "# И в довершение итогов напомним структуру запроса, который мы можем составить с учётом новых знаний:"
   ]
  },
  {
   "cell_type": "code",
   "execution_count": null,
   "metadata": {},
   "outputs": [],
   "source": [
    "SELECT\n",
    "    столбец1 AS новое_название,\n",
    "    столбец2,\n",
    "    АГРЕГАТ(столбец3)\n",
    "FROM таблица\n",
    "WHERE (условие1 OR условие2)\n",
    "    AND условие3\n",
    "GROUP BY столбец1, столбец2\n",
    "HAVING АГРЕГАТ(столбец3) > 5\n",
    "ORDER BY сортировка1, сортировка2\n",
    "OFFSET 1 LIMIT 2"
   ]
  },
  {
   "cell_type": "code",
   "execution_count": null,
   "metadata": {},
   "outputs": [],
   "source": [
    "select\n",
    "  type1,\n",
    "  type2,\n",
    "  avg(hp) as avg_hp,\n",
    "  avg(attack) as avg_attack,\n",
    "  avg(defense) as avg_defense,\n",
    "  avg(speed) as avg_speed\n",
    "from sql.pokemon\n",
    "group by type1, type2\n",
    "having (avg(hp) + avg(attack) + avg(speed) + avg(defense)) > 400\n",
    "\n"
   ]
  }
 ],
 "metadata": {
  "language_info": {
   "name": "python"
  },
  "orig_nbformat": 4
 },
 "nbformat": 4,
 "nbformat_minor": 2
}

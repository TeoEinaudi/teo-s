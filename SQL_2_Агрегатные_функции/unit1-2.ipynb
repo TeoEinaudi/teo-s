{
 "cells": [
  {
   "attachments": {},
   "cell_type": "markdown",
   "metadata": {},
   "source": [
    "# Знакомимся с данными\n",
    "\n",
    "###  В этом модуле мы познакомимся с агрегатными функциями.\n",
    "\n",
    "### Агрегатные функции помогают вычислять сводные значения для группы строк.\n",
    "И помогут нам в этом... покемоны! Как? Да очень просто!\n",
    "\n",
    "### На протяжении всего модуля мы будем работать с таблицей [sql.pokemon](http://sql.skillfactory.ru:3000/question#eyJkYXRhc2V0X3F1ZXJ5Ijp7ImRhdGFiYXNlIjoyLCJxdWVyeSI6eyJzb3VyY2UtdGFibGUiOjM3fSwidHlwZSI6InF1ZXJ5In0sImRpc3BsYXkiOiJ0YWJsZSIsInZpc3VhbGl6YXRpb25fc2V0dGluZ3MiOnt9fQ==), содержащей данные о покемонах и их характеристиках из классических видеоигр.\n",
    "\n",
    "### Давайте познакомимся с нашими покемонами и данными о них!"
   ]
  },
  {
   "attachments": {},
   "cell_type": "markdown",
   "metadata": {},
   "source": [
    "### Присмотримся к содержимому таблицы sql.pokemon: в ней хранится информация о покемонах.\n",
    "\n",
    "* id\t- уникальный идентификатор\n",
    "* name\t- имя\n",
    "* type1\t- основной тип\n",
    "* type2\t- дополнительный тип\n",
    "* hp\t- количество очков здоровья\n",
    "* attack\t- показатели атаки\n",
    "* defense\t- показатели защиты\n",
    "* speed\t- показатели скорости\n",
    "\n",
    "![Alt text](https://lms-cdn.skillfactory.ru/assets/courseware/v1/804cb10214babd8188d4edb0ed7757f9/asset-v1%3ASkillFactory%2BDSPR-2.0%2B14JULY2021%2Btype%40asset%2Bblock/dst3-u2-md2_1_1.png)"
   ]
  },
  {
   "attachments": {},
   "cell_type": "markdown",
   "metadata": {},
   "source": [
    "# Убираем повторяющиеся значения\n",
    "\n",
    "### Для начала получим все основные типы покемонов.\n",
    "\n"
   ]
  },
  {
   "cell_type": "code",
   "execution_count": null,
   "metadata": {},
   "outputs": [],
   "source": [
    "'''\n",
    "  SELECT /*выбор*/ \n",
    "    type1 /*столбец type1*/\n",
    "FROM sql.pokemon /*из таблицы sql.pokemon*/\n",
    "'''"
   ]
  },
  {
   "attachments": {},
   "cell_type": "markdown",
   "metadata": {},
   "source": [
    "### Видно, что типы повторяются, потому что в результате запроса вы получаете все строки, которые подходят под заданные условия.\n",
    "\n",
    "### Чтобы получить уникальные значения из столбца, воспользуемся ключевым словом **DISTINCT**."
   ]
  },
  {
   "cell_type": "code",
   "execution_count": null,
   "metadata": {},
   "outputs": [],
   "source": [
    "'''\n",
    "SELECT DISTINCT\n",
    "    type1\n",
    "FROM sql.pokemon\n",
    "'''"
   ]
  },
  {
   "attachments": {},
   "cell_type": "markdown",
   "metadata": {},
   "source": [
    "### Мы можем применять DISTINCT и для нескольких столбцов.\n",
    "\n",
    "### Получим, например, все уникальные пары основного и дополнительного типов для покемонов.\n"
   ]
  },
  {
   "cell_type": "code",
   "execution_count": null,
   "metadata": {},
   "outputs": [],
   "source": [
    "\"\"\"\"\n",
    "SELECT DISTINCT /*выбрать уникальные значения*/\n",
    "    type1, /*столбец type1*/\n",
    "    type2 /*столбец type2*/\n",
    "FROM sql.pokemon /*из таблицы sql.pokemon*/\n",
    "\"\"\""
   ]
  },
  {
   "attachments": {},
   "cell_type": "markdown",
   "metadata": {},
   "source": [
    "###  На скриншоте ниже представлен фрагмент вывода по нашему запросу.\n",
    "\n",
    "![Alt text](https://lms-cdn.skillfactory.ru/assets/courseware/v1/b563a27e42ceb40490d51dcb4dfbf493/asset-v1%3ASkillFactory%2BDSPR-2.0%2B14JULY2021%2Btype%40asset%2Bblock/dst3-u2-md2_2_1.png)\n",
    "\n",
    "## Обратите внимание! DISTINCT пишется только один раз, в начале списка получаемых столбцов."
   ]
  }
 ],
 "metadata": {
  "language_info": {
   "name": "python"
  },
  "orig_nbformat": 4
 },
 "nbformat": 4,
 "nbformat_minor": 2
}

{
 "cells": [
  {
   "attachments": {},
   "cell_type": "markdown",
   "metadata": {},
   "source": [
    "# Группировка\n",
    "\n",
    "### Агрегатные функции вычисляют какой-то параметр для набора строк.\n",
    "\n",
    "### Прежде мы применяли агрегатные функции для всего вывода, а сейчас используем для различных групп строк. Поможет нам в этом ключевое слово GROUP BY.\n",
    "\n",
    "### GROUP BY используется для определения групп выходных строк, к которым могут применяться агрегатные функции.\n",
    "\n",
    "### Выведем число покемонов каждого типа.\n"
   ]
  },
  {
   "cell_type": "code",
   "execution_count": null,
   "metadata": {},
   "outputs": [],
   "source": [
    "\"\"\"\n",
    "SELECT /*выбор*/\n",
    "    type1 AS pokemon_type, /*столбец type1; присвоить алиас pokemon_type*/\n",
    "    COUNT(*) AS pokemon_count /*подсчёт всех строк; присвоить алиас pokemon_count*/\n",
    "FROM sql.pokemon /*из таблицы sql.pokemon*/\n",
    "GROUP BY type1 /*группировка по столбцу type1*/\n",
    "ORDER BY type1 /*сортировка по столбцу type1*/\n",
    "    \"\"\""
   ]
  },
  {
   "attachments": {},
   "cell_type": "markdown",
   "metadata": {},
   "source": [
    "### Мы получили такой результат:\n",
    "\n",
    "![Alt text](https://lms-cdn.skillfactory.ru/assets/courseware/v1/abe19d36feb86b1af7778cb883c2b323/asset-v1%3ASkillFactory%2BDSPR-2.0%2B14JULY2021%2Btype%40asset%2Bblock/dst3-u2-md2_4_1.png)\n",
    "\n",
    "### Вывод, конечно же, можно сортировать по столбцу с агрегированием.\n",
    "\n",
    "### Представим ТОП существующих типов покемонов.\n",
    "\n",
    "\n"
   ]
  },
  {
   "cell_type": "code",
   "execution_count": null,
   "metadata": {},
   "outputs": [],
   "source": [
    "\"\"\"\n",
    "SELECT /*выбор*/\n",
    "    type1 AS pokemon_type, /*столбец type1; присвоить алиас pokemon_type*/\n",
    "    COUNT(*) AS pokemon_count /*подсчёт всех строк; присвоить алиас pokemon_count*/\n",
    "FROM sql.pokemon /*из таблицы sql.pokemon*/\n",
    "GROUP BY pokemon_type /*группировка по столбцу pokemon_type*/\n",
    "ORDER BY COUNT(*) DESC /*сортировка в порядке убывания*/\n",
    "    \"\"\""
   ]
  },
  {
   "attachments": {},
   "cell_type": "markdown",
   "metadata": {},
   "source": [
    "### Обратите внимание! Мы использовали в группировке не название столбца, а его алиас."
   ]
  },
  {
   "cell_type": "code",
   "execution_count": null,
   "metadata": {},
   "outputs": [],
   "source": [
    "\"\"\"\n",
    "select \n",
    "  type1 as primary_type,\n",
    "  count (distinct type2) as additional_types_count,\n",
    "  avg (hp) as avg_hp,\n",
    "  sum(attack) as attack_sum \n",
    "from sql.pokemon\n",
    "group by primary_type\n",
    "order by additional_types_count desc, primary_type asc\n",
    "\"\"\""
   ]
  },
  {
   "attachments": {},
   "cell_type": "markdown",
   "metadata": {},
   "source": [
    "### Мы можем осуществлять группировку по нескольким столбцам."
   ]
  },
  {
   "cell_type": "code",
   "execution_count": null,
   "metadata": {},
   "outputs": [],
   "source": [
    "'''\n",
    "SELECT /*выбор*/\n",
    "    type1 AS primary_type, /*столбец type1; присвоить алиас primary_type*/\n",
    "    type2 AS additional_type, /*столбец type2; присвоить алиас additional_type*/\n",
    "    COUNT(*) AS pokemon_count /*подсчёт всех строк присвоить алиас pokemon_count*/\n",
    "FROM sql.pokemon /*из таблицы sql.pokemon*/\n",
    "GROUP BY 1, 2 /*группировка по столбцам 1 и 2*/\n",
    "ORDER BY 1, 2 NULLS FIRST /*сортировка по столбцам 1 и 2; сначала нули*/\n",
    "'''"
   ]
  },
  {
   "attachments": {},
   "cell_type": "markdown",
   "metadata": {},
   "source": [
    "### Обратите внимание! В группировке можно указывать порядковый номер столбца так же, как мы делали это в прошлом модуле для сортировки.\n",
    "### GROUP BY можно использовать и без агрегатных функций. Тогда его действие будет равносильно действию DISTINCT."
   ]
  }
 ],
 "metadata": {
  "language_info": {
   "name": "python"
  },
  "orig_nbformat": 4
 },
 "nbformat": 4,
 "nbformat_minor": 2
}

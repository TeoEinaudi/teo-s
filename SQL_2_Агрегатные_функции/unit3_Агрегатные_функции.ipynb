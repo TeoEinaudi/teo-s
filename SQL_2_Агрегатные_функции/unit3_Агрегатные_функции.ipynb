{
 "cells": [
  {
   "attachments": {},
   "cell_type": "markdown",
   "metadata": {},
   "source": [
    "# Агрегатные функции\n",
    "\n",
    "### Кроме простых математических операций, которые мы использовали в предыдущем модуле, СУБД позволяет проводить статистические вычисления для нескольких строк.\n",
    "\n",
    "### Давайте посчитаем количество строк в таблице. Для этого применим агрегатную функцию COUNT."
   ]
  },
  {
   "cell_type": "code",
   "execution_count": null,
   "metadata": {},
   "outputs": [],
   "source": [
    "'''\n",
    "SELECT\n",
    "    COUNT(*)\n",
    "FROM sql.pokemon\n",
    "'''"
   ]
  },
  {
   "attachments": {},
   "cell_type": "markdown",
   "metadata": {},
   "source": [
    "### COUNT считает строки, а звёздочка (*) в аргументе функции означает, что считаются все строки, которые возвращает запрос.\n",
    "\n",
    "### Если в аргументе функции указать название столбца, функция обработает только строки с непустым значением.\n",
    "\n",
    "### Внутри функции COUNT мы можем также применять DISTINCT, чтобы вычислить количество уникальных значений."
   ]
  },
  {
   "cell_type": "code",
   "execution_count": null,
   "metadata": {},
   "outputs": [],
   "source": [
    "'''\n",
    "SELECT /*выбор*/\n",
    "    COUNT(DISTINCT type1) /*функция подсчёта строк; уникальные значения столбца type1*/\n",
    "FROM sql.pokemon /*из таблицы sql.pokemon*/\n",
    "'''"
   ]
  },
  {
   "attachments": {},
   "cell_type": "markdown",
   "metadata": {},
   "source": [
    "## ОСНОВНЫЕ АГРЕГАТНЫЕ ФУНКЦИИ\n",
    "\n",
    "### Назовём основные агрегатные функции, с которыми нам предстоит работать:\n",
    "- COUNT — вычисляет число непустых строк;\n",
    "- SUM — вычисляет сумму;\n",
    "- AVG — вычисляет среднее;\n",
    "- MAX — вычисляет максимум;\n",
    "- MIN — вычисляет минимум.\n",
    "\n",
    "### Присмотримся к ним внимательнее.\n",
    "\n",
    "### Разумеется, вы можете использовать в запросе фильтрацию строк с помощью WHERE, чтобы получить агрегированное значение только для отдельных строк.\n",
    "\n",
    "### Кроме того, мы можем применять несколько агрегатных функций в одном запросе.\n",
    "\n"
   ]
  },
  {
   "cell_type": "code",
   "execution_count": null,
   "metadata": {},
   "outputs": [],
   "source": [
    "'''\n",
    "SELECT /*выбор*/\n",
    "    COUNT(*) AS \"всего травяных покемонов\", /*подсчёт всех строк; назначить алиас \"всего травяных покемонов\"*/\n",
    "    COUNT(type2) AS \"покемонов с дополнительным типом\", /*подсчёт непустых строк в столбце type2; назначить алиас \"покемонов с дополнительным типом\"*/\n",
    "    AVG(attack) AS \"средняя атака\", /*среднее значение столбца attack; назначить алиас \"средняя атака\"*/\n",
    "    AVG(defense) AS \"средняя защита\" /*среднее значение столбца defense; назначить алиас \"средняя защита\"*/\n",
    "FROM sql.pokemon /*из таблицы sql.pokemon*/\n",
    "WHERE type1 = 'Grass'/*при условии, что значение столбца type1 содержит grass*/\n",
    "'''"
   ]
  },
  {
   "attachments": {},
   "cell_type": "markdown",
   "metadata": {},
   "source": [
    "### В результате получим следующий вывод:\n",
    "\n",
    "![Alt text](https://lms-cdn.skillfactory.ru/assets/courseware/v1/f287d1008ae63f1f0f9ac45ad41af163/asset-v1%3ASkillFactory%2BDSPR-2.0%2B14JULY2021%2Btype%40asset%2Bblock/dst3-u2-md2_3_1.png)\n",
    "\n",
    "### С полным перечнем существующих агрегатных функций вы можете ознакомиться в [официальной документации](https://postgrespro.ru/docs/postgrespro/11/functions-aggregate)."
   ]
  },
  {
   "cell_type": "code",
   "execution_count": null,
   "metadata": {},
   "outputs": [],
   "source": [
    "# 3.5\n",
    "'''\n",
    "select\n",
    "  count(id) as \"pokemon_count\",\n",
    "  avg(speed) as \"avg_speed\",\n",
    "  max(hp) as \"max_hp\",\n",
    "  min(hp) as \"min_hp\"\n",
    "from sql.pokemon\n",
    "where type1 = 'Electric' and type2 is not null and (attack > 50 or defense > 50)\n",
    "'''"
   ]
  }
 ],
 "metadata": {
  "language_info": {
   "name": "python"
  },
  "orig_nbformat": 4
 },
 "nbformat": 4,
 "nbformat_minor": 2
}

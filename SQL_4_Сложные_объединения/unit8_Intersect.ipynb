{
 "cells": [
  {
   "attachments": {},
   "cell_type": "markdown",
   "metadata": {},
   "source": [
    "# INTERSECT\n",
    "\n",
    "## ВЫБИРАЕМ ОБЩИЕ ДАННЫЕ\n",
    "\n",
    "### А что если нам надо вывести общие записи — те, что существуют в нескольких таблицах?\n",
    "\n",
    "### Предположим, нам надо вывести совпадающие по названию города и штаты."
   ]
  },
  {
   "cell_type": "code",
   "execution_count": null,
   "metadata": {},
   "outputs": [],
   "source": [
    "'''\n",
    "SELECT \n",
    "         c.city_name object_name /*выбираем столбец city_name, задаём ему алиас object_name*/\n",
    "FROM \n",
    "         sql.city c /*из схемы sql и таблицы city, задаём таблице алиас с*/\n",
    "\n",
    "INTERSECT /*оператор присоединения*/\n",
    "\n",
    "SELECT \n",
    "         cc.state /*выбираем столбец state*/\n",
    "FROM \n",
    "         sql.city cc /*из схемы sql и таблицы city, задаём таблице алиас с*/\n",
    "ORDER BY 1\n",
    "'''"
   ]
  },
  {
   "attachments": {},
   "cell_type": "markdown",
   "metadata": {},
   "source": [
    "### Как видим, с помощью оператора INTERSECT мы вывели названия городов и штатов, которые совпадают: New York, Washington и Wyoming. Присмотримся к нему внимательнее.\n",
    "\n",
    "### Чтобы лучше понять, как работает этот оператор, вновь обратимся к диаграмме Венна: INTERSECT оставляет из результатов первого запроса все строки, которые совпали с результатом выполнения второго запроса.\n",
    "\n",
    "![Alt text](https://lms-cdn.skillfactory.ru/assets/courseware/v1/5c4422f466caff0a493c3ec664658ae8/asset-v1%3ASkillFactory%2BDSPR-2.0%2B14JULY2021%2Btype%40asset%2Bblock/dst3-u2-md4_8_1.png)\n",
    "\n",
    "### Синтаксис запроса с оператором INTERSECT выглядит следующим образом:\n",
    "\n",
    "### SELECT \n",
    "###          n columns\n",
    "### FROM \n",
    "###          table_1\n",
    "### INTERSECT\n",
    "### SELECT \n",
    "###          n columns\n",
    "### FROM \n",
    "###          table_2\n",
    "\n",
    "### Вернёмся к нашему примеру с продажами канцтоваров.\n",
    "\n",
    "### С помощью оператора INTERSECT мы можем вывести те позиции, которые продавались и в мае, и в июне. Визуализировать это действие можно примерно так:\n",
    "\n",
    "![Alt text](https://lms-cdn.skillfactory.ru/assets/courseware/v1/0b1111999cc786de32fe2480e80d139e/asset-v1%3ASkillFactory%2BDSPR-2.0%2B14JULY2021%2Btype%40asset%2Bblock/dst3-u2-md4_8_2.png)\n",
    "\n",
    "### Оператор INTERSECT оставляет только те строки, которые являются общими для двух запросов (в нашем примере это Тетрадь).\n",
    "\n",
    "### Как EXCEPT, так и INTERSECT убирают дубликаты, если они имеются.\n"
   ]
  },
  {
   "cell_type": "code",
   "execution_count": null,
   "metadata": {},
   "outputs": [],
   "source": [
    "# 8.1\n",
    "'''\n",
    "select c.city_id\n",
    "from sql.city c\n",
    "intersect\n",
    "select cu.city_id\n",
    "from sql.customer cu\n",
    "intersect\n",
    "select s.city_id\n",
    "from sql.shipment s\n",
    "intersect\n",
    "select d.city_id\n",
    "from sql.driver d\n",
    "'''"
   ]
  },
  {
   "cell_type": "code",
   "execution_count": null,
   "metadata": {},
   "outputs": [],
   "source": [
    "# 8.2\n",
    "'''\n",
    "select c.zip\n",
    "from sql.customer c\n",
    "intersect\n",
    "select d.zip_code\n",
    "from sql.driver d\n",
    "'''"
   ]
  },
  {
   "attachments": {},
   "cell_type": "markdown",
   "metadata": {},
   "source": [
    "## Запишем структуру запроса с учётом полученных знаний.\n",
    "|Оператор | Элемент|\n",
    "|---------|--------|\n",
    "|SELECT |         N columns|\n",
    "|FROM     |     table_1|\n",
    "|UNION / UNION ALL / EXCEPT / INTERSECT| \n",
    "|SELECT |         N columns|\n",
    "|FROM  |        table_2|"
   ]
  },
  {
   "cell_type": "code",
   "execution_count": null,
   "metadata": {},
   "outputs": [],
   "source": [
    "# 9.1\n",
    "'''\n",
    "(select\n",
    "  c.city_name,\n",
    "  max(s.weight) weight\n",
    "from sql.city c\n",
    "  join sql.shipment s on c.city_id = s.city_id\n",
    "group by 1\n",
    "order by 2 desc\n",
    "limit 1)\n",
    "union\n",
    "(select\n",
    "  cc.city_name,\n",
    "  min(ss.weight)\n",
    "from sql.city cc\n",
    "  join sql.shipment ss on cc.city_id = ss.city_id\n",
    "group by 1\n",
    "order by 2\n",
    "limit 1)\n",
    "'''"
   ]
  },
  {
   "cell_type": "code",
   "execution_count": null,
   "metadata": {},
   "outputs": [],
   "source": [
    "# 9.2\n",
    "'''\n",
    "select\n",
    "  s.cust_id mutual_id\n",
    "from sql.shipment s\n",
    "intersect\n",
    "select\n",
    "  sh.ship_id\n",
    "from sql.shipment sh\n",
    "'''"
   ]
  },
  {
   "cell_type": "code",
   "execution_count": null,
   "metadata": {},
   "outputs": [],
   "source": [
    "# 9.3\n",
    "'''\n",
    "select\n",
    "  c.cust_name object_name,\n",
    "  'КЛИЕНТ' object_description\n",
    "from sql.customer c\n",
    "where c.cust_type = 'manufacturer'\n",
    "union\n",
    "select\n",
    "  t.make,\n",
    "  'ГРУЗОВИК'\n",
    "from sql.truck t\n",
    "'''"
   ]
  },
  {
   "attachments": {},
   "cell_type": "markdown",
   "metadata": {},
   "source": [
    "https://apps.skillfactory.ru/learning/course/course-v1:SkillFactory+SQLQ+2021/home"
   ]
  }
 ],
 "metadata": {
  "language_info": {
   "name": "python"
  },
  "orig_nbformat": 4
 },
 "nbformat": 4,
 "nbformat_minor": 2
}

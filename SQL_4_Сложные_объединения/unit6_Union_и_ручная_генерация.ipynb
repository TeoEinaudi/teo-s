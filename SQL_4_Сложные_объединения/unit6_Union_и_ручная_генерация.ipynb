{
 "cells": [
  {
   "attachments": {},
   "cell_type": "markdown",
   "metadata": {},
   "source": [
    "# UNION и ручная генерация\n",
    "\n",
    "### ✍ UNION можно использовать для создания справочников прямо в коде запроса. К примеру, если мы хотим вручную ввести какие-то значения и произвести с ними некоторые манипуляции или дополнить существующую выдачу своими значениями.\n",
    "\n",
    "### Составим запрос, который позволит вывести первые три буквы алфавита и их порядковые номера.\n",
    "\n"
   ]
  },
  {
   "cell_type": "code",
   "execution_count": null,
   "metadata": {},
   "outputs": [],
   "source": [
    "'''\n",
    "SELECT \n",
    "         'a' letter,'1' ordinal_position /*сами задаём значение первого столбца ‘a’ и алиас для него letter, значение второго столбца ‘1’ и алиас для него ordinal_position*/\n",
    "         \n",
    "UNION /*оператор присоединения*/\n",
    "SELECT \n",
    "         'b','2' /*сами задаём значение первого столбца ‘b’, значение второго столбца ‘2’ */\n",
    "         \n",
    "UNION /*оператор присоединения*/\n",
    "\n",
    "SELECT\n",
    "         'c','3' /*сами задаём значение первого столбца ‘с’, значение второго столбца ‘3’*/ \n",
    "'''"
   ]
  },
  {
   "attachments": {},
   "cell_type": "markdown",
   "metadata": {},
   "source": [
    "### Существуют сложные алгоритмы сравнения текстовых значений, но главный смысл сводится к одному: сравнение производится на основе таблицы unicode и позиции элемента в ней с учётом определённых условий.\n",
    "\n"
   ]
  },
  {
   "cell_type": "code",
   "execution_count": null,
   "metadata": {},
   "outputs": [],
   "source": [
    "# 6.1\n",
    "'''\n",
    "select\n",
    "  1000000 result\n",
    "union\n",
    "select 541\n",
    "union\n",
    "select -500\n",
    "union\n",
    "select 100\n",
    "order by 1 desc\n",
    "limit 1\n",
    "'''"
   ]
  },
  {
   "cell_type": "code",
   "execution_count": null,
   "metadata": {},
   "outputs": [],
   "source": [
    "# 6.2\n",
    "'''\n",
    "select '1000000'::text mycol\n",
    "union\n",
    "select '541'::text\n",
    "union\n",
    "select '-500'::text\n",
    "union\n",
    "select '100'::text\n",
    "order by 1 desc\n",
    "limit 1\n",
    "'''"
   ]
  },
  {
   "cell_type": "code",
   "execution_count": null,
   "metadata": {},
   "outputs": [],
   "source": [
    "# 6.3\n",
    "'''\n",
    "select '+'::text result\n",
    "union\n",
    "select '-'::text\n",
    "union\n",
    "select '='::text\n",
    "union\n",
    "select '/'::text\n",
    "order by 1 desc\n",
    "limit 1\n",
    "'''"
   ]
  }
 ],
 "metadata": {
  "language_info": {
   "name": "python"
  },
  "orig_nbformat": 4
 },
 "nbformat": 4,
 "nbformat_minor": 2
}

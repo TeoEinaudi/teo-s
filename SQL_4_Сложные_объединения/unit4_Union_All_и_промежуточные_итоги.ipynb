{
 "cells": [
  {
   "attachments": {},
   "cell_type": "markdown",
   "metadata": {},
   "source": [
    "# UNION ALL и промежуточные итоги\n",
    "\n",
    "## ВОЗМОЖНОСТИ UNION\n",
    "\n",
    "### ✍ Помимо соединения разнородных сущностей в единый справочник, UNION ALL часто используется для подведения промежуточных итогов и выведения результатов агрегатных функций.\n",
    "\n",
    "### Кроме агрегатных функций, в запросах с UNION могут использоваться функции группировки и выборки.\n",
    "\n",
    "### Попробуем вывести обобщённые данные о населении по всем городам, с детализацией до конкретного города.\n",
    "\n"
   ]
  },
  {
   "cell_type": "code",
   "execution_count": null,
   "metadata": {},
   "outputs": [],
   "source": [
    "'''\n",
    "SELECT\n",
    "         c.city_name,\n",
    "         c.population /*выбираем столбцы city_name, population*/\n",
    "FROM\n",
    "         sql.city c /*из схемы sql и таблицы city, задаём таблице алиас с*/\n",
    "\n",
    "UNION ALL /*оператор присоединения*/\n",
    "\n",
    "SELECT\n",
    "         'total',\n",
    "         SUM(c.population) /*сами задаём объект ‘total’, суммируем все значения столбца population*/\n",
    "FROM\n",
    "         sql.city c /*из схемы sql и таблицы city, задаём таблице алиас с*/\n",
    "ORDER BY 2 DESC /*сортируем по второму столбцу в убывающем порядке (чтобы итоговая сумма была в начале)*/\n",
    "'''"
   ]
  },
  {
   "attachments": {},
   "cell_type": "markdown",
   "metadata": {},
   "source": [
    "### Визуально это действие можно представить так:\n",
    "\n",
    "![Alt text](https://lms-cdn.skillfactory.ru/assets/courseware/v1/5b38c2b9fa661c3e2c559506101f4fb7/asset-v1%3ASkillFactory%2BDSPR-2.0%2B14JULY2021%2Btype%40asset%2Bblock/dst3-u2-md4_4_1.png)\n",
    "\n",
    "### Выполнив запрос в Metabase, вы заметите, что сначала выведен итоговый результат с суммой населения всех городов в таблице, а затем по каждому городу в отдельности."
   ]
  },
  {
   "cell_type": "code",
   "execution_count": null,
   "metadata": {},
   "outputs": [],
   "source": [
    "# 4.1\n",
    "'''\n",
    "select\n",
    "  'total_shipments' date_period,\n",
    "  count(sh.ship_id)\n",
    "from sql.shipment sh\n",
    "union\n",
    "select\n",
    "  s.ship_date::text ,\n",
    "  count(s.ship_date) cnt_shipment \n",
    "from \n",
    "  sql.shipment s\n",
    "group by 1\n",
    "order by 1 desc\n",
    "'''"
   ]
  }
 ],
 "metadata": {
  "language_info": {
   "name": "python"
  },
  "orig_nbformat": 4
 },
 "nbformat": 4,
 "nbformat_minor": 2
}

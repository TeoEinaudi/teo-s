{
 "cells": [
  {
   "attachments": {},
   "cell_type": "markdown",
   "metadata": {},
   "source": [
    "# UNION и дополнительные условия\n",
    "\n",
    "### ✍ UNION также может быть использован для разделения существующей выборки по критерию «выполнение определённого условия».\n",
    "\n",
    "### Например, с помощью UNION можно отобразить, у кого из водителей заполнен столбец с номером телефона."
   ]
  },
  {
   "cell_type": "code",
   "execution_count": null,
   "metadata": {},
   "outputs": [],
   "source": [
    "'''\n",
    "SELECT\n",
    "         d.first_name,\n",
    "         d.last_name,\n",
    "         'телефон заполнен' phone_info /*выбираем столбцы first_name, last_name, сами выводим объект ‘телефон заполнен’*/\n",
    "FROM\n",
    "         sql.driver d /*из схемы sql и таблицы driver, задаём алиас d*/\n",
    "WHERE d.phone IS NOT NULL /*условие, что телефон заполнен*/\n",
    "\n",
    "UNION /*оператор присоединения (уникальные значения)*/\n",
    "\n",
    "SELECT\n",
    "         d.first_name,\n",
    "         d.last_name,\n",
    "         'телефон не заполнен' phone_info /*выбираем столбцы first_name, last_name, сами выводим объект ‘телефон не заполнен’*/\n",
    "FROM\n",
    "         sql.driver d /*из схемы sql и таблицы driver, задаём алиас d*/\n",
    "WHERE d.phone IS NULL /*условие, что телефон не заполнен*/\n",
    "'''"
   ]
  },
  {
   "cell_type": "code",
   "execution_count": null,
   "metadata": {},
   "outputs": [],
   "source": [
    "# 5.1\n",
    "'''\n",
    "(select distinct\n",
    "  c.city_name,\n",
    "  c.state,\n",
    "  'доставка осуществлялась' shipping_status\n",
    "from sql.city c\n",
    "  join sql.shipment s on s.city_id = c.city_id\n",
    "where s.ship_id is not null\n",
    "union all\n",
    "select distinct\n",
    "  ci.city_name,\n",
    "  ci.state,\n",
    "  'доставка не осуществлялась' shipping_status\n",
    "from sql.city ci\n",
    "  left join sql.shipment sh on sh.city_id = ci.city_id\n",
    "where sh.ship_id is null)\n",
    "order by 1, 2\n",
    "'''"
   ]
  },
  {
   "cell_type": "code",
   "execution_count": null,
   "metadata": {},
   "outputs": [],
   "source": [
    "# 5.2\n",
    "'''\n",
    "select\n",
    "  c.city_name,\n",
    "  count(s.ship_id) shippings_fake\n",
    "from sql.city c\n",
    "  join sql.shipment s on s.city_id = c.city_id\n",
    "group by 1\n",
    "having count(s.ship_id)>10\n",
    "union all \n",
    "select\n",
    "  c.city_name,\n",
    "  count(s.ship_id)+ 5 shippings_fake\n",
    "from sql.city c\n",
    "  join sql.shipment s on s.city_id = c.city_id\n",
    "group by 1\n",
    "having count(s.ship_id)<=10 \n",
    "order by 2 desc, 1\n",
    "'''"
   ]
  }
 ],
 "metadata": {
  "language_info": {
   "name": "python"
  },
  "orig_nbformat": 4
 },
 "nbformat": 4,
 "nbformat_minor": 2
}

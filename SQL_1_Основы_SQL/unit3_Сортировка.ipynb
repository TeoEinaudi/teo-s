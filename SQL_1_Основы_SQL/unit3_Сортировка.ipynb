{
 "cells": [
  {
   "attachments": {},
   "cell_type": "markdown",
   "metadata": {},
   "source": [
    "# Сортировка\n",
    "\n",
    "## ORDER BY\n",
    "\n",
    "### Когда мы говорили о последовательности столбцов в выводе, вы, вероятно, задались вопросом: «А в каком порядке выводятся строки?»\n",
    "\n",
    "### Порядок вывода строк может задаваться в настройках базы данных для каждой таблицы. Более того, этот порядок может быть не задан, и тогда от вывода к выводу он будет разным.\n",
    "\n",
    "### Чтобы задать порядок вывода строк в запросе, применим новое ключевое слово ORDER BY.\n",
    "### Для примера отсортируем фильмы по их названию в алфавитном порядке."
   ]
  },
  {
   "cell_type": "code",
   "execution_count": null,
   "metadata": {},
   "outputs": [],
   "source": [
    "SELECT *\n",
    "FROM sql.kinopoisk\n",
    "ORDER BY movie_title"
   ]
  },
  {
   "attachments": {},
   "cell_type": "markdown",
   "metadata": {},
   "source": [
    "### Как видите, сортировка по возрастанию проводится по умолчанию.\n",
    "\n",
    "### Наш запрос с сортировкой по названию аналогичен такому:"
   ]
  },
  {
   "cell_type": "code",
   "execution_count": null,
   "metadata": {},
   "outputs": [],
   "source": [
    "SELECT *\n",
    "FROM sql.kinopoisk\n",
    "ORDER BY rating ASC"
   ]
  },
  {
   "attachments": {},
   "cell_type": "markdown",
   "metadata": {},
   "source": [
    "### Здесь ASC — явное указание порядка сортировки по возрастанию (англ. ascending).\n",
    "\n",
    "### Для обратного порядка используется ключевое слово DESC (англ. descending).\n",
    "\n",
    "### Разумеется, мы можем комбинировать в нашем запросе фильтрацию строк и сортировку вывода, а также выводить только необходимые столбцы.\n",
    "\n",
    "### Выведем названия, имена режиссёров и сценаристов, а также год выхода в прокат фильмов, выпущенных в СССР, и отсортируем результат по убыванию рейтинга."
   ]
  },
  {
   "cell_type": "code",
   "execution_count": null,
   "metadata": {},
   "outputs": [],
   "source": [
    "SELECT /*выбор*/\n",
    "    movie_title, /*столбец movie_title*/\n",
    "    director, /*столбец director*/\n",
    "    screenwriter, /*столбец screenwriter*/\n",
    "    year /*столбец year*/\n",
    "FROM sql.kinopoisk /*из таблицы sql.kinopoisk*/\n",
    "WHERE country = 'СССР' /*при условии, что страна производства — СССР*/\n",
    "ORDER BY rating DESC /*сортировка по рейтингу в порядке убывания*/"
   ]
  },
  {
   "cell_type": "code",
   "execution_count": null,
   "metadata": {},
   "outputs": [],
   "source": [
    "select movie_title, overview, year\n",
    "from sql.kinopoisk\n",
    "where rating > 8.2 and country <> 'США'\n",
    "order by year desc\n"
   ]
  },
  {
   "attachments": {},
   "cell_type": "markdown",
   "metadata": {},
   "source": [
    "### Также в ORDER BY можно указывать, где должны идти пустые значения — в начале или в конце.\n",
    "\n",
    "### Такая настройка порядка вывода задаётся с помощью ключевых слов NULLS FIRST / NULLS LAST."
   ]
  },
  {
   "cell_type": "code",
   "execution_count": null,
   "metadata": {},
   "outputs": [],
   "source": [
    "SELECT  /*выбор*/\n",
    "    movie_title,  /*столбец movie_table*/\n",
    "    rating,  /*столбец rating*/\n",
    "    overview,  /*столбец overview*/\n",
    "    year /*столбец year*/\n",
    "FROM sql.kinopoisk  /*из таблицы sql.kinopoisk*/\n",
    "ORDER BY overview /*сортировка по столбцу overview*/"
   ]
  },
  {
   "attachments": {},
   "cell_type": "markdown",
   "metadata": {},
   "source": [
    "### А теперь измените последнюю строку скрипта на ORDER BY overview NULLS FIRST.\n",
    "\n",
    "### Такой запрос выведет первыми строки с пустым описанием.\n",
    "\n",
    "### Вы можете сортировать вывод по нескольким столбцам, просто указав их через запятую в ORDER BY (порядок сортировки указывается отдельно для каждого столбца).\n",
    "\n",
    "### Кроме того, вы можете сортировать результат запроса и по тем столбцам, которых нет в выводе.\n",
    "\n",
    "### Получили список всех режиссёров и фильмов из ТОП-250, отсортированных по году выхода в прокат, а внутри года — по рейтингу в порядке убывания."
   ]
  },
  {
   "cell_type": "code",
   "execution_count": null,
   "metadata": {},
   "outputs": [],
   "source": [
    "SELECT /*выбор*/\n",
    "    director, /*столбец director*/\n",
    "    movie_title /*столбец movie_title*/\n",
    "FROM sql.kinopoisk /*из таблицы sql.kinopoisk*/\n",
    "ORDER BY year, rating DESC /*сортировка по столбцам year и rating в порядке убывания*/"
   ]
  },
  {
   "cell_type": "code",
   "execution_count": null,
   "metadata": {},
   "outputs": [],
   "source": [
    "select movie_title\n",
    "from sql.kinopoisk\n",
    "where rating > 8.3 and country = 'Франция'\n",
    "order by rating desc, year desc"
   ]
  },
  {
   "attachments": {},
   "cell_type": "markdown",
   "metadata": {},
   "source": [
    "### Для упрощения работы с ORDER BY можно использовать не названия столбцов, а их номера из вывода."
   ]
  },
  {
   "cell_type": "code",
   "execution_count": null,
   "metadata": {},
   "outputs": [],
   "source": [
    "SELECT /*выбор*/\n",
    "    director, /*столбец director*/\n",
    "    movie_title, /*столбец movie_title*/\n",
    "    year /*столбец year*/\n",
    "FROM sql.kinopoisk /*из таблицы sql.kinopoisk*/\n",
    "ORDER BY 1, 3 DESC /*сортировка по первому и третьему столбцам*/"
   ]
  },
  {
   "attachments": {},
   "cell_type": "markdown",
   "metadata": {},
   "source": [
    "### Сортировку по номеру столбца стоит использовать с осторожностью, поскольку при изменении вывода в SELECT всё может сбиться.\n",
    "\n",
    "### При добавлении новых столбцов в SELECT нужно проверить и при необходимости поправить номера столбцов в ORDER BY."
   ]
  }
 ],
 "metadata": {
  "language_info": {
   "name": "python"
  },
  "orig_nbformat": 4
 },
 "nbformat": 4,
 "nbformat_minor": 2
}

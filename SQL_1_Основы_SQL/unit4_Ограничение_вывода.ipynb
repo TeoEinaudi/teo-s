{
 "cells": [
  {
   "attachments": {},
   "cell_type": "markdown",
   "metadata": {},
   "source": [
    "# Ограничение вывода\n",
    "\n",
    "## LIMIT\n",
    "\n",
    "### По умолчанию при любом запросе вы получаете в выводе все строки, попадающие под условия запроса.\n",
    "\n",
    "### Чаще всего именно этого вы и ожидаете, но иногда, например, вам нужно просто взглянуть на содержание таблицы, при этом чем она она больше, тем дольше будет работать запрос.\n",
    "\n",
    "### Ограничим вывод первыми десятью строками и сможем легко понять, какие данные хранятся в таблице, не утяжеляя результат."
   ]
  },
  {
   "cell_type": "code",
   "execution_count": null,
   "metadata": {},
   "outputs": [],
   "source": [
    "SELECT * /*выбор всех полей*/\n",
    "FROM sql.kinopoisk /*из таблицы sql.kinopoisk*/\n",
    "LIMIT 10 /*ограничить вывод десятью значениями*/"
   ]
  },
  {
   "attachments": {},
   "cell_type": "markdown",
   "metadata": {},
   "source": [
    "### Ещё один типичный случай использования ограничения вывода — вывод ТОПа по какому-то показателю.\n",
    "\n",
    "### Выведем ТОП-5 фильмов по рейтингу, сначала отсортировав их по убыванию, а потом оставив только верхние пять строк с помощью LIMIT."
   ]
  },
  {
   "cell_type": "code",
   "execution_count": null,
   "metadata": {},
   "outputs": [],
   "source": [
    "SELECT /*выбор*/\n",
    "    movie_title, /*столбец movie_title*/\n",
    "    rating /*столбец rating*/\n",
    "FROM sql.kinopoisk /*из таблицы sql.kinopoisk*/\n",
    "ORDER BY rating DESC /*сортировка по столбцу rating в порядке убывания*/\n",
    "LIMIT 5 /*ограничить пятью значениями*/"
   ]
  },
  {
   "attachments": {},
   "cell_type": "markdown",
   "metadata": {},
   "source": [
    "### Обратите внимание! Ключевое слово LIMIT используется в самом конце запроса.\n",
    "\n",
    "## OFFSET\n",
    "\n",
    "### Если LIMIT «оставляет» указанное число первых строк из вывода, то OFFSET, наоборот, «обрезает» указанное число первых строк.\n",
    "\n",
    "### LIMIT и OFFSET можно использовать вместе, их порядок не важен.\n",
    "\n",
    "### Выведем название и рейтинг фильмов с четвёртого по восьмое место."
   ]
  },
  {
   "cell_type": "code",
   "execution_count": null,
   "metadata": {},
   "outputs": [],
   "source": [
    "SELECT /*выбор*/\n",
    "    movie_title, /*столбец movie_title*/\n",
    "    rating /*столбец rating*/\n",
    "FROM sql.kinopoisk /*из таблицы sql.kinopoisk*/\n",
    "ORDER BY rating DESC /*сортировка по столбцу rating в порядке убывания*/\n",
    "OFFSET 3 LIMIT 5 /*исключить первые три строки и вывести пять следующих за ними*/"
   ]
  },
  {
   "attachments": {},
   "cell_type": "markdown",
   "metadata": {},
   "source": [
    "# Напоследок напомним структуру простого запроса:\n",
    "\n",
    "### SELECT\n",
    "###     столбец1 AS новое_название,\n",
    "###     столбец2,\n",
    "###     столбец3\n",
    "### FROM таблица\n",
    "### WHERE (условие1 OR условие2)\n",
    "###     AND условие3\n",
    "### ORDER BY сортировка1, сортировка2\n",
    "### OFFSET 1 LIMIT 2"
   ]
  },
  {
   "attachments": {},
   "cell_type": "markdown",
   "metadata": {},
   "source": [
    "# Финальное задание\n"
   ]
  },
  {
   "cell_type": "code",
   "execution_count": null,
   "metadata": {},
   "outputs": [],
   "source": [
    "select movie_title, director, screenwriter, actors\n",
    "from sql.kinopoisk\n",
    "where (rating between 8 and 8.5 or year < 1990) and (overview is not null) and (movie_title not like 'Т%') and (movie_title like '____________')\n",
    "order by rating desc \n",
    "limit 7"
   ]
  }
 ],
 "metadata": {
  "language_info": {
   "name": "python"
  },
  "orig_nbformat": 4
 },
 "nbformat": 4,
 "nbformat_minor": 2
}
